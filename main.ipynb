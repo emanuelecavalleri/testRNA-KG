{
 "cells": [
  {
   "cell_type": "markdown",
   "metadata": {
    "id": "VimKwjlORYQk"
   },
   "source": [
    "<!--_____\n",
    "***\n",
    "\n",
    "<img width='700' src=\"https://user-images.githubusercontent.com/8030363/108961534-b9a66980-7634-11eb-96e2-cc46589dcb8c.png\" style=\"vertical-align:middle\">Application of PheKnowLator to the construction of RNA-based Knowledge graph from the integration of -->\n",
    "\n",
    "## <p style=\"text-align: center;\">Construction of a simplified RNA-based Knowledge Graph</p>\n",
    "\n",
    "***\n",
    "***\n",
    "\n",
    "**Authors:** [E. Cavalleri](https://mail.google.com/mail/u/0/?view=cm&fs=1&tf=1&to=emanuele.cavalleri@studenti.unimi.it), [T.J. Callahan](https://mail.google.com/mail/u/0/?view=cm&fs=1&tf=1&to=callahantiff@gmail.com), [M. Mesiti](https://mail.google.com/mail/u/0/?view=cm&fs=1&tf=1&to=marco.mesiti@unimi.it)\n",
    "\n",
    "**GitHub Repositories:** [testRNA-KG](https://github.com/emanuelecavalleri/testRNA-KG), [PheKnowLator](https://github.com/callahantiff/PheKnowLator/)  \n",
    "<!--- **Release:** **[v2.0.0](https://github.com/callahantiff/PheKnowLator/wiki/v2.0.0)** --->\n",
    "  \n",
    "<br>  \n",
    "\n",
    "**Objective:** Knowledge graphs provide meaningful ways to integrate heterogeneous biological data and represent complex biological mechanisms. \n",
    "[PheKnowLator](https://github.com/callahantiff/PheKnowLator) is a system that support the user in the acquisition of biomedical entities from different kinds of data sources and their representation in terms of a biomedical knowledge graph that models unbiased molecular mechanisms as prescribed by domain ontologies. In this notebook we wish to show the use of PheKnowLator for the generation of a RNA-based knowledge graph that involves **gene-disease**, **gene-miRNA**, and **miRNA-disease** relationships. These relationships are made available from the following public repositories:\n",
    "- [gene-disease](https://storage.googleapis.com/pheknowlator/current_build/data/original_data/curated_gene_disease_associations.tsv), provided by PheKnowLator ecosystem itself\n",
    "- [gene-miRNA](https://dianalab.e-ce.uth.gr/downloads/tarbase_v8_data.tar.gz), provided by TarBase (we selected 50k random rows to reduce input size)\n",
    "- [miRNA-disease](http://watson.compbio.iupui.edu:8080/miR2Disease/download/AllEntries.txt), provided by miR2Disease\n",
    "\n",
    "The construction of the knowledge graph should be compliant with the following Ontologies:\n",
    "- Mondo Disease Ontology ([MONDO](https://obofoundry.org/ontology/mondo.html))\n",
    "- Non-Coding RNA Ontology ([NCRO](https://obofoundry.org/ontology/ncro.html))\n",
    "- Relations Ontology ([RO](https://obofoundry.org/ontology/ro.html))\n",
    "\n",
    "All the data required for the execution of this notebook can be downloaded from this [testRNA-KG/resources](https://drive.google.com/drive/folders/1ClpodnqNc2512z-2ImKCHr28M7w3IJRR) Google Drive repository.\n",
    "\n",
    "<!-- This work seeks to explore the utility of incorporating existing knowledge of molecular mechanism from ontologies, publicly available data, and the literature to construct a biomedical knowledge graph that models unbiased molecular mechanisms of human transcriptome. -->\n",
    "\n",
    "<a target=\"_blank\" href=\"https://user-images.githubusercontent.com/33032169/225636670-056a7774-f3d6-4aee-84b1-4f462c3cf33a.png\"> <img src=\"https://user-images.githubusercontent.com/33032169/225636670-056a7774-f3d6-4aee-84b1-4f462c3cf33a.png\"></a> \n",
    "\n",
    "(*Click Figure to Enlarge Image in Current Browser Tab*)\n",
    "\n",
    "<br>\n",
    "\n",
    "***\n",
    "***"
   ]
  },
  {
   "cell_type": "markdown",
   "metadata": {
    "id": "FMuStNBXRYQ2"
   },
   "source": [
    "## Notebook Purpose\n",
    "**Wiki Page:** **[`Release v2.0.0`](https://github.com/callahantiff/PheKnowLator/wiki/v2.0.0)**\n",
    "\n",
    "<br>\n",
    "\n",
    "**Purpose:** This notebook serves as a `main` file for the RNA-KG construction based on PheKnowLator project. This scripts walks through this program step-by-step and generates the knowledge graph shown above. Please see the [PheKnowLator README](https://github.com/callahantiff/PheKnowLator/blob/master/README.md) for more information.\n",
    "\n",
    "<br>\n",
    "\n",
    "**Assumptions:**\n",
    "1. All downloaded and generated data sources are provided through [this](https://drive.google.com/drive/folders/14oXaqKbH2JkQ_nEqCRWB3T26ESaWoySK) dedicated Google Drive repository.  \n",
    "\n",
    "2. Make sure that the following input documents have been constructed (see the [PheKnowLator Dependencies Wiki](https://github.com/callahantiff/PheKnowLator/wiki/Dependencies) for more information):  \n",
    "  - [`resource_info.txt`](https://github.com/emanuelecavalleri/testRNA-KG/blob/master/resources/resource_info.txt)\n",
    "  - [`ontology_source_list.txt`](https://github.com/emanuelecavalleri/testRNA-KG/blob/master/resources/ontology_source_list.txt)\n",
    "  - [`edge_source_list.txt`](https://github.com/emanuelecavalleri/testRNA-KG/blob/main/resources/edge_source_list.txt)   \n",
    "\n",
    "3. Download [`RELATIONS_LABELS.txt`](https://github.com/emanuelecavalleri/testRNA-KG/blob/main/resources/relations_data/RELATIONS_LABELS.txt) relations label file prior to running the scripts. Please see [PheKnowLator Dependencies Wiki](https://github.com/callahantiff/PheKnowLator/wiki/Dependencies#relations-data) for more information on how it is generated.\n",
    "\n",
    "4. Select a knowledge graph construction method (i.e. `instance-based` or `subclass-based`).  \n",
    "\n",
    "<br>\n",
    "\n",
    "***\n",
    "### Table of Contents\n",
    "***\n",
    "The three primary steps involved in building a knowledge graph are `Downloading Data Sources`, `Creating Edge Lists`, and `Building the knowledge graphs`.\n",
    "\n",
    "* [Data Sources](#data-source)  \n",
    "* [Create Edge Lists](#create-edges)  \n",
    "* [Build Knowledge Graph](#build-kg)  \n",
    "\n",
    "***\n",
    "\n",
    "***"
   ]
  },
  {
   "cell_type": "markdown",
   "metadata": {
    "collapsed": true,
    "id": "hNicC6P-RYQ7",
    "pycharm": {
     "is_executing": false
    }
   },
   "source": [
    "_____\n",
    "### Set-Up Environment"
   ]
  },
  {
   "cell_type": "code",
   "execution_count": 1,
   "metadata": {
    "id": "AgpFq-tWRYQ9"
   },
   "outputs": [],
   "source": [
    "# import needed libraries\n",
    "import glob\n",
    "import json\n",
    "import pandas\n",
    "import ray\n",
    "import time\n",
    "\n",
    "# import module\n",
    "from pkt_kg.downloads import OntData, LinkedData\n",
    "from pkt_kg.edge_list import CreatesEdgeList\n",
    "from pkt_kg.knowledge_graph import FullBuild, PartialBuild, PostClosureBuild"
   ]
  },
  {
   "cell_type": "markdown",
   "metadata": {
    "id": "GCpSJ9hORYRE"
   },
   "source": [
    "***\n",
    "## Download Data Sources <a class=\"anchor\" id=\"data-source\"></a>\n",
    "\n",
    "**Wiki Page:** **[`Dependencies`](https://github.com/callahantiff/PheKnowLator/wiki/Dependencies)**  \n",
    "\n",
    "**Purpose:**\n",
    "This portion of this portion of the algorithm is to download:\n",
    "1. [Download Ontology Data](#download-ontology-data)  \n",
    "2. [Download Edge Data](#download-edge-data)   \n",
    "\n",
    "<br>\n",
    "\n",
    "**Input Files:**\n",
    "  - [`resource_info.txt`](https://github.com/emanuelecavalleri/testRNA-KG/blob/master/resources/resource_info.txt)\n",
    "  - [`ontology_source_list.txt`](https://github.com/emanuelecavalleri/testRNA-KG/blob/master/resources/ontology_source_list.txt)\n",
    "  - [`edge_source_list.txt`](https://github.com/emanuelecavalleri/testRNA-KG/blob/master/resources/edge_source_list.txt)\n",
    "\n",
    "<br>\n",
    "\n",
    "**Assumption:** All sources used to construct our knowledge graph need to be preprocessed and ready to download prior to running this code. All mapping, filtering, and label data have been generated prior to this step. For assistance with creating these datasets, see the [`RNA-KG_Preparation.ipynb`](https://github.com/emanuelecavalleri/testRNA-KG/blob/main/notebooks/RNA-KG_Preparation.ipynb) Jupyter Notebook."
   ]
  },
  {
   "cell_type": "markdown",
   "metadata": {
    "id": "za2MdSLvRYRH"
   },
   "source": [
    "***\n",
    "***\n",
    "### Ontology Data  <a class=\"anchor\" id=\"download-ontology-data\"></a>\n",
    "Ontologies are the core data structure used when building PheKnowLator."
   ]
  },
  {
   "cell_type": "code",
   "execution_count": 2,
   "metadata": {
    "id": "iDJqLAHcRYRI"
   },
   "outputs": [],
   "source": [
    "ont = OntData('resources/ontology_source_list.txt', 'resources/resource_info.txt')\n",
    "\n",
    "ont.parses_resource_file()"
   ]
  },
  {
   "cell_type": "code",
   "execution_count": 3,
   "metadata": {
    "id": "XaOYUPexRYRL",
    "outputId": "f19371a6-0743-4467-d92f-e7ea54612d68"
   },
   "outputs": [
    {
     "name": "stderr",
     "output_type": "stream",
     "text": [
      "100%|██████████| 3/3 [00:00<00:00, 6864.65it/s]\n",
      "100%|██████████| 3/3 [00:00<00:00, 25216.26it/s]"
     ]
    },
    {
     "name": "stdout",
     "output_type": "stream",
     "text": [
      "\n",
      "*** Generating Metadata ***\n",
      "\n"
     ]
    },
    {
     "name": "stderr",
     "output_type": "stream",
     "text": [
      "\n"
     ]
    }
   ],
   "source": [
    "ont.data_files = ont.source_list\n",
    "ont.generates_source_metadata()"
   ]
  },
  {
   "cell_type": "code",
   "execution_count": 4,
   "metadata": {
    "id": "lep_QSuoRYRP",
    "outputId": "f3b414f1-d57a-48f5-c17e-fcfa5a76b9f1"
   },
   "outputs": [
    {
     "name": "stderr",
     "output_type": "stream",
     "text": [
      "100%|██████████| 3/3 [00:00<00:00, 38014.84it/s]\n"
     ]
    }
   ],
   "source": [
    "ont._writes_source_metadata_locally()"
   ]
  },
  {
   "cell_type": "code",
   "execution_count": 5,
   "metadata": {
    "id": "CropxvdORYRS",
    "outputId": "608e85e4-d9dd-4e39-d6ea-507d3a48b627"
   },
   "outputs": [
    {
     "data": {
      "text/plain": [
       "['gene-disease|;;|entity-class|RO_0003302|http://www.ncbi.nlm.nih.gov/gene/|http://purl.obolibrary.org/obo/|t|0;4|1:./resources/processed_data/DISEASE_MONDO_MAP.txt|10;>=;1.0|None',\n",
       " 'gene-miRNA|;;|entity-class|RO_0002434|http://www.ncbi.nlm.nih.gov/gene/|http://purl.obolibrary.org/obo/|t|0;2|0:./resources/processed_data/ENSEMBL_GENE_ENTREZ_GENE_MAP.txt;1:./resources/processed_data/hsa_NCRO_Map.txt|None|None',\n",
       " 'miRNA-disease|;;|class-class|RO_0003302|http://purl.obolibrary.org/obo/|http://purl.obolibrary.org/obo/|t|2;1|0:./resources/processed_data/hsa_NCRO_Map.txt;1:./resources/processed_data/DOID_MONDO_MAP.txt|None|None']"
      ]
     },
     "execution_count": 5,
     "metadata": {},
     "output_type": "execute_result"
    }
   ],
   "source": [
    "ont.resource_info"
   ]
  },
  {
   "cell_type": "markdown",
   "metadata": {
    "id": "Vb_LRd2kRYRT"
   },
   "source": [
    "<br>\n",
    "\n",
    "### Edge Data   <a class=\"anchor\" id=\"download-edge-data\"></a>\n",
    "In PheKnowLator, classes are nodes that originate from ontologies. Class data sources are Linked Data sources that are used to create edges in the knowledge graph and thus can connect to other class data sources. Sometimes we want to add data that is not already part of an ontology. In that case, data either be added as an `instance` of an existing ontology class or as its own `owl:class` by being added to the knowledge graph as a `subclass` of an existing `owl:class`."
   ]
  },
  {
   "cell_type": "code",
   "execution_count": 6,
   "metadata": {
    "id": "Im-rQ4rmRYRV"
   },
   "outputs": [],
   "source": [
    "edges = LinkedData('resources/edge_source_list.txt', 'resources/resource_info.txt')\n",
    "\n",
    "edges.parses_resource_file()"
   ]
  },
  {
   "cell_type": "code",
   "execution_count": 7,
   "metadata": {
    "id": "2aMyW0lbRYRW",
    "outputId": "239e11f4-9611-4459-bc02-00c47e534c1a"
   },
   "outputs": [
    {
     "name": "stderr",
     "output_type": "stream",
     "text": [
      "100%|██████████| 3/3 [00:00<00:00, 10745.44it/s]\n",
      "100%|██████████| 3/3 [00:00<00:00, 40590.04it/s]"
     ]
    },
    {
     "name": "stdout",
     "output_type": "stream",
     "text": [
      "\n",
      "*** Generating Metadata ***\n",
      "\n"
     ]
    },
    {
     "name": "stderr",
     "output_type": "stream",
     "text": [
      "\n"
     ]
    }
   ],
   "source": [
    "edges.data_files = edges.source_list\n",
    "edges.generates_source_metadata()"
   ]
  },
  {
   "cell_type": "code",
   "execution_count": 8,
   "metadata": {
    "id": "n41xNZziRYRX",
    "outputId": "44607b8b-d47e-44d7-cb2d-035a4f2fa90a"
   },
   "outputs": [
    {
     "name": "stderr",
     "output_type": "stream",
     "text": [
      "100%|██████████| 3/3 [00:00<00:00, 14496.44it/s]\n"
     ]
    }
   ],
   "source": [
    "edges._writes_source_metadata_locally()"
   ]
  },
  {
   "cell_type": "code",
   "execution_count": 9,
   "metadata": {
    "id": "P2SZ6dGIRYRX",
    "outputId": "371dabe2-3808-4eef-b5d4-1766eb0f77f0"
   },
   "outputs": [
    {
     "data": {
      "text/plain": [
       "dict_keys(['gene-disease', 'gene-miRNA', 'miRNA-disease'])"
      ]
     },
     "execution_count": 9,
     "metadata": {},
     "output_type": "execute_result"
    }
   ],
   "source": [
    "edges.source_list.keys()"
   ]
  },
  {
   "cell_type": "markdown",
   "metadata": {
    "id": "7LjcaJ3MRYRY"
   },
   "source": [
    "***\n",
    "\n",
    "## Create Edge Lists <a class=\"anchor\" id=\"create-edges\"></a>\n",
    "\n",
    "**Wiki Page:** **[`Data Sources`](https://github.com/callahantiff/PheKnowLator/wiki/v2-Data-Sources)**\n",
    "\n",
    "<br>\n",
    "\n",
    "**Purpose:** The code below will take the dictionaries of processed data described above and use them to create edge lists for each of the edge types specified in the [`resource_info.txt`](https://github.com/emanuelecavalleri/testRNA-KG/blob/master/resources/resource_info.txt). Each edge list will be appended to a nested dictionary (see details below).\n",
    "\n",
    "<br>\n",
    "\n",
    "**Assumptions:**  \n",
    "1. All `ontology` and `edge` data sources have been downloaded.   \n",
    "\n",
    "2. All code in the [`RNA-KG_Preparation.ipynb`](https://github.com/emanuelecavalleri/testRNA-KG/blob/main/notebooks/RNA-KG_Preparation.ipynb) Jupyter Notebook has been run. This Notebook contains code needed to generate all mapping, filtering, and label data.\n",
    "\n",
    "<br>\n",
    "\n",
    "**Output:** `Master_Edge_List_Dict.json`. Below is an example of what the `Master Edge Dictionary` contains for each processed resource:  \n",
    "```python\n",
    "master_edges = {'miRNA-disease'  :\n",
    "                {'source_labels'    : ';;',\n",
    "                 'data_type'        : 'class-class',\n",
    "                 'edge_relation'    : 'RO_0003302',\n",
    "                 'uri'              : ('http://purl.obolibrary.org/obo/',\n",
    "                                       'http://purl.obolibrary.org/obo/'),\n",
    "                 'delimiter'        : 't',\n",
    "                 'column_idx'       : '2;1',\n",
    "                 'identifier_maps'  : '0:./[...]/hsa_NCRO_Map.txt;1:./[...]/DOID_MONDO_MAP.txt',\n",
    "                 'evidence_criteria': 'None',\n",
    "                 'filter_criteria'  : 'None',\n",
    "                 'edge_list'        : ['...']}\n",
    "```\n",
    "\n",
    "***"
   ]
  },
  {
   "cell_type": "code",
   "execution_count": 10,
   "metadata": {
    "id": "uIAMaU5bRYRa",
    "outputId": "81f1c859-4915-4cf3-d967-e0d22552b8c1"
   },
   "outputs": [
    {
     "name": "stderr",
     "output_type": "stream",
     "text": [
      "2023-03-16 15:19:49,146\tINFO worker.py:1518 -- Started a local Ray instance.\n"
     ]
    },
    {
     "data": {
      "text/html": [
       "<div>\n",
       "    <div style=\"margin-left: 50px;display: flex;flex-direction: row;align-items: center\">\n",
       "        <h3 style=\"color: var(--jp-ui-font-color0)\">Ray</h3>\n",
       "        <svg version=\"1.1\" id=\"ray\" width=\"3em\" viewBox=\"0 0 144.5 144.6\" style=\"margin-left: 3em;margin-right: 3em\">\n",
       "            <g id=\"layer-1\">\n",
       "                <path fill=\"#00a2e9\" class=\"st0\" d=\"M97.3,77.2c-3.8-1.1-6.2,0.9-8.3,5.1c-3.5,6.8-9.9,9.9-17.4,9.6S58,88.1,54.8,81.2c-1.4-3-3-4-6.3-4.1\n",
       "                    c-5.6-0.1-9.9,0.1-13.1,6.4c-3.8,7.6-13.6,10.2-21.8,7.6C5.2,88.4-0.4,80.5,0,71.7c0.1-8.4,5.7-15.8,13.8-18.2\n",
       "                    c8.4-2.6,17.5,0.7,22.3,8c1.3,1.9,1.3,5.2,3.6,5.6c3.9,0.6,8,0.2,12,0.2c1.8,0,1.9-1.6,2.4-2.8c3.5-7.8,9.7-11.8,18-11.9\n",
       "                    c8.2-0.1,14.4,3.9,17.8,11.4c1.3,2.8,2.9,3.6,5.7,3.3c1-0.1,2,0.1,3,0c2.8-0.5,6.4,1.7,8.1-2.7s-2.3-5.5-4.1-7.5\n",
       "                    c-5.1-5.7-10.9-10.8-16.1-16.3C84,38,81.9,37.1,78,38.3C66.7,42,56.2,35.7,53,24.1C50.3,14,57.3,2.8,67.7,0.5\n",
       "                    C78.4-2,89,4.7,91.5,15.3c0.1,0.3,0.1,0.5,0.2,0.8c0.7,3.4,0.7,6.9-0.8,9.8c-1.7,3.2-0.8,5,1.5,7.2c6.7,6.5,13.3,13,19.8,19.7\n",
       "                    c1.8,1.8,3,2.1,5.5,1.2c9.1-3.4,17.9-0.6,23.4,7c4.8,6.9,4.6,16.1-0.4,22.9c-5.4,7.2-14.2,9.9-23.1,6.5c-2.3-0.9-3.5-0.6-5.1,1.1\n",
       "                    c-6.7,6.9-13.6,13.7-20.5,20.4c-1.8,1.8-2.5,3.2-1.4,5.9c3.5,8.7,0.3,18.6-7.7,23.6c-7.9,5-18.2,3.8-24.8-2.9\n",
       "                    c-6.4-6.4-7.4-16.2-2.5-24.3c4.9-7.8,14.5-11,23.1-7.8c3,1.1,4.7,0.5,6.9-1.7C91.7,98.4,98,92.3,104.2,86c1.6-1.6,4.1-2.7,2.6-6.2\n",
       "                    c-1.4-3.3-3.8-2.5-6.2-2.6C99.8,77.2,98.9,77.2,97.3,77.2z M72.1,29.7c5.5,0.1,9.9-4.3,10-9.8c0-0.1,0-0.2,0-0.3\n",
       "                    C81.8,14,77,9.8,71.5,10.2c-5,0.3-9,4.2-9.3,9.2c-0.2,5.5,4,10.1,9.5,10.3C71.8,29.7,72,29.7,72.1,29.7z M72.3,62.3\n",
       "                    c-5.4-0.1-9.9,4.2-10.1,9.7c0,0.2,0,0.3,0,0.5c0.2,5.4,4.5,9.7,9.9,10c5.1,0.1,9.9-4.7,10.1-9.8c0.2-5.5-4-10-9.5-10.3\n",
       "                    C72.6,62.3,72.4,62.3,72.3,62.3z M115,72.5c0.1,5.4,4.5,9.7,9.8,9.9c5.6-0.2,10-4.8,10-10.4c-0.2-5.4-4.6-9.7-10-9.7\n",
       "                    c-5.3-0.1-9.8,4.2-9.9,9.5C115,72.1,115,72.3,115,72.5z M19.5,62.3c-5.4,0.1-9.8,4.4-10,9.8c-0.1,5.1,5.2,10.4,10.2,10.3\n",
       "                    c5.6-0.2,10-4.9,9.8-10.5c-0.1-5.4-4.5-9.7-9.9-9.6C19.6,62.3,19.5,62.3,19.5,62.3z M71.8,134.6c5.9,0.2,10.3-3.9,10.4-9.6\n",
       "                    c0.5-5.5-3.6-10.4-9.1-10.8c-5.5-0.5-10.4,3.6-10.8,9.1c0,0.5,0,0.9,0,1.4c-0.2,5.3,4,9.8,9.3,10\n",
       "                    C71.6,134.6,71.7,134.6,71.8,134.6z\"/>\n",
       "            </g>\n",
       "        </svg>\n",
       "        <table>\n",
       "            <tr>\n",
       "                <td style=\"text-align: left\"><b>Python version:</b></td>\n",
       "                <td style=\"text-align: left\"><b>3.8.5</b></td>\n",
       "            </tr>\n",
       "            <tr>\n",
       "                <td style=\"text-align: left\"><b>Ray version:</b></td>\n",
       "                <td style=\"text-align: left\"><b> 2.0.0</b></td>\n",
       "            </tr>\n",
       "            \n",
       "        </table>\n",
       "    </div>\n",
       "</div>\n"
      ],
      "text/plain": [
       "RayContext(dashboard_url='', python_version='3.8.5', ray_version='2.0.0', ray_commit='cba26cc83f6b5b8a2ff166594a65cb74c0ec8740', address_info={'node_ip_address': '127.0.0.1', 'raylet_ip_address': '127.0.0.1', 'redis_address': None, 'object_store_address': '/tmp/ray/session_2023-03-16_15-19-46_214107_2930/sockets/plasma_store', 'raylet_socket_name': '/tmp/ray/session_2023-03-16_15-19-46_214107_2930/sockets/raylet', 'webui_url': '', 'session_dir': '/tmp/ray/session_2023-03-16_15-19-46_214107_2930', 'metrics_export_port': 56487, 'gcs_address': '127.0.0.1:61151', 'address': '127.0.0.1:61151', 'dashboard_agent_listen_port': 52365, 'node_id': 'f21d05499ea637e7a34dba190aa71ce74062f116d26787323d16dc07'})"
      ]
     },
     "execution_count": 10,
     "metadata": {},
     "output_type": "execute_result"
    }
   ],
   "source": [
    "import psutil\n",
    "# set-up environment for parallel processing -- even if running program serially these steps are needed\n",
    "cpus = psutil.cpu_count(logical=True)\n",
    "ray.init()"
   ]
  },
  {
   "cell_type": "code",
   "execution_count": 11,
   "metadata": {
    "id": "FbaDnELoRYRb",
    "outputId": "9de034d7-dc44-4869-9be0-159598db6c78"
   },
   "outputs": [
    {
     "name": "stdout",
     "output_type": "stream",
     "text": [
      "\u001b[2m\u001b[36m(CreatesEdgeList pid=3384)\u001b[0m Finished Edge: miRNA-disease (miRNA = 196, disease = 44); 611 unique edges\n",
      "\u001b[2m\u001b[36m(CreatesEdgeList pid=3383)\u001b[0m Finished Edge: gene-miRNA (gene = 11591, miRNA = 676); 40072 unique edges\n",
      "\u001b[2m\u001b[36m(CreatesEdgeList pid=3382)\u001b[0m Finished Edge: gene-disease (gene = 5060, disease = 4436); 12842 unique edges\n"
     ]
    }
   ],
   "source": [
    "# combine data sources\n",
    "combined_edges = dict(edges.data_files, **ont.data_files)\n",
    "resource_info_loc = './resources/resource_info.txt'\n",
    "\n",
    "# initialize edge dictionary class\n",
    "master_edges = CreatesEdgeList(data_files=combined_edges, source_file=resource_info_loc)\n",
    "master_edges.runs_creates_knowledge_graph_edges(source_file=resource_info_loc, data_files=combined_edges, cpus=cpus)"
   ]
  },
  {
   "cell_type": "markdown",
   "metadata": {
    "id": "fKakdcBRRYRc"
   },
   "source": [
    "**Preview Master Edge Data**  \n",
    "Generate a table that includes each `edge-type`, its primary `relation`, example identifiers, and count of unique edges."
   ]
  },
  {
   "cell_type": "code",
   "execution_count": 53,
   "metadata": {},
   "outputs": [
    {
     "data": {
      "text/plain": [
       "dict_keys(['miRNA-disease', 'gene-miRNA', 'gene-disease'])"
      ]
     },
     "execution_count": 53,
     "metadata": {},
     "output_type": "execute_result"
    }
   ],
   "source": [
    "master_edges = json.load(open('resources/Master_Edge_List_Dict.json', 'r'))\n",
    "master_edges.keys()"
   ]
  },
  {
   "cell_type": "code",
   "execution_count": 54,
   "metadata": {
    "id": "L7NsdEdQRYRd"
   },
   "outputs": [
    {
     "data": {
      "text/html": [
       "<div>\n",
       "<style scoped>\n",
       "    .dataframe tbody tr th:only-of-type {\n",
       "        vertical-align: middle;\n",
       "    }\n",
       "\n",
       "    .dataframe tbody tr th {\n",
       "        vertical-align: top;\n",
       "    }\n",
       "\n",
       "    .dataframe thead th {\n",
       "        text-align: right;\n",
       "    }\n",
       "</style>\n",
       "<table border=\"1\" class=\"dataframe\">\n",
       "  <thead>\n",
       "    <tr style=\"text-align: right;\">\n",
       "      <th></th>\n",
       "      <th>Edge Type</th>\n",
       "      <th>Relation</th>\n",
       "      <th>Example Edge</th>\n",
       "      <th>Unique Edges</th>\n",
       "    </tr>\n",
       "  </thead>\n",
       "  <tbody>\n",
       "    <tr>\n",
       "      <th>0</th>\n",
       "      <td>miRNA-disease</td>\n",
       "      <td>causes or contributes to condition</td>\n",
       "      <td>NCRO_0002733, MONDO_0006639</td>\n",
       "      <td>611</td>\n",
       "    </tr>\n",
       "    <tr>\n",
       "      <th>1</th>\n",
       "      <td>gene-miRNA</td>\n",
       "      <td>interacts with</td>\n",
       "      <td>9639, NCRO_0002045</td>\n",
       "      <td>40072</td>\n",
       "    </tr>\n",
       "    <tr>\n",
       "      <th>2</th>\n",
       "      <td>gene-disease</td>\n",
       "      <td>causes or contributes to condition</td>\n",
       "      <td>2, MONDO_0010200</td>\n",
       "      <td>12842</td>\n",
       "    </tr>\n",
       "  </tbody>\n",
       "</table>\n",
       "</div>"
      ],
      "text/plain": [
       "       Edge Type                            Relation  \\\n",
       "0  miRNA-disease  causes or contributes to condition   \n",
       "1     gene-miRNA                      interacts with   \n",
       "2   gene-disease  causes or contributes to condition   \n",
       "\n",
       "                  Example Edge  Unique Edges  \n",
       "0  NCRO_0002733, MONDO_0006639           611  \n",
       "1           9639, NCRO_0002045         40072  \n",
       "2             2, MONDO_0010200         12842  "
      ]
     },
     "execution_count": 54,
     "metadata": {},
     "output_type": "execute_result"
    }
   ],
   "source": [
    "# read in relation data\n",
    "relation_data = open('./resources/relations_data/RELATIONS_LABELS.txt').readlines()\n",
    "relation_dict = {x.split('\\t')[0]: x.split('\\t')[1].strip('\\n') for x in relation_data}\n",
    "\n",
    "# function to return key for any value\n",
    "def get_key(my_dict, val):\n",
    "    for key, value in my_dict.items():\n",
    "        if val == value:\n",
    "            return key\n",
    " \n",
    "    return \"key doesn't exist\"\n",
    "\n",
    "# print basic stats on each resource\n",
    "edge_data = [[key,\n",
    "              get_key(relation_dict, 'http://purl.obolibrary.org/obo/'+master_edges[key]['edge_relation']),\n",
    "              ', '.join(master_edges[key]['edge_list'][0]),\n",
    "              len(master_edges[key]['edge_list'])]\n",
    "             for key in master_edges.keys()]\n",
    "\n",
    "# convert dict to pandas df for nice printing\n",
    "df = pandas.DataFrame(edge_data, columns = ['Edge Type', 'Relation', 'Example Edge', 'Unique Edges']) \n",
    "df                "
   ]
  },
  {
   "cell_type": "markdown",
   "metadata": {
    "id": "J4_qSjxjRYRe"
   },
   "source": [
    "<br><br>"
   ]
  },
  {
   "cell_type": "markdown",
   "metadata": {
    "id": "4o-N6yPsRYRe"
   },
   "source": [
    "***\n",
    "\n",
    "## Build Knowledge Graph  <a class=\"anchor\" id=\"build-kg\"></a>\n",
    "**Wiki Pages:**  \n",
    "- **[`KG-Construction`](https://github.com/callahantiff/PheKnowLator/wiki/KG-Construction)**  \n",
    "- **[`relations-data`](https://github.com/callahantiff/PheKnowLator/wiki/Dependencies#relations-data)**  \n",
    "- **[`node-metadata`](https://github.com/callahantiff/PheKnowLator/wiki/Dependencies#node-metadata)** \n",
    "\n",
    "**Jupyter Notebooks:**  \n",
    "- [`RNA-KG_Preparation.ipynb`](https://github.com/emanuelecavalleri/testRNA-KG/blob/master/notebooks/RNA-KG_Preparation.ipynb)  \n",
    "[`Ontology_Cleaning.ipynb`](https://github.com/callahantiff/PheKnowLator/blob/master/notebooks/Ontology_Cleaning.ipynb)  \n",
    "\n",
    "\n",
    "<br>\n",
    "\n",
    "**Assumptions:**  \n",
    "- <u>Construction Approach</u>. If using the `subclass-based` construction approach, please make sure that a `pickled` dictionary mapping each non-ontology data node to an existing ontology class is created and added to the `./resources/knowledge_graph` directory (please see [here](https://github.com/callahantiff/PheKnowLator/tree/master/resources/knowledge_graphs#construction-method) for additional information).   \n",
    "- <u>Relations Data</u>. If inverse relation data is going to be used to build the knowledge graph, that it has been generated and added to the `./resources/relations_data` directory (please see [here](https://github.com/callahantiff/PheKnowLator/blob/master/resources/relations_data/README.md) for additional information).  \n",
    "- <u>Node Metadata</u>. If node metadata is going to be used to build the knowledge graph, that it has been generated and added to the `./resources/node_metadata` directory (please see [here](https://github.com/callahantiff/PheKnowLator/blob/master/resources/node_data/README.md) for additional information).  \n",
    "- <u>Decoding OWL Semantics</u>. If decoding OWL-Semantics, please make sure to provide a list of owl:Property types to keep is created and added to the `./resources/knowledge_graph` directory (please see [here](https://github.com/callahantiff/PheKnowLator/wiki/OWL-NETS-2.0) for additional information). \n",
    "\n",
    "<br>\n",
    "\n",
    "**Input:** \n",
    "- `Master_Edge_List_Dict.json`  \n",
    "- Directory of relations data sources - see [here](https://github.com/callahantiff/PheKnowLator/wiki/Dependencies#relations-data) for more information\n",
    "- Directory of node data sources - see [here](https://github.com/callahantiff/PheKnowLator/wiki/Dependencies#node-metadata) for more information\n",
    "\n",
    "<br>\n",
    "\n",
    "**Output:** Please see [`Release v2.0.0 Wiki`](https://github.com/callahantiff/PheKnowLator/wiki/v2.0.0) for access to all generated output files.   \n",
    "- `Knowledge Graph` (`.owl` and Networkx MultiDiGraph `.pkl`)  \n",
    "- `Class Instance URI-UUID Map` (if \"instance\" construction approach)   \n",
    "- `Triple List - Integer`  \n",
    "- `Triple List - Identifier`  \n",
    "- `Node Integer-Identifier Map`  \n",
    "- `Node Attribute Data`  \n",
    "\n",
    "<br>\n",
    "\n",
    "The process to build the knowledge graph is somewhat time consuming and can be broken into the following steps:  \n",
    "\n",
    "1. Merge Ontologies. See [here](https://github.com/callahantiff/PheKnowLator/blob/master/resources/ontologies/README.md) for additional information on how to preprocess the ontologies prior to merging them.    \n",
    "\n",
    "2. Create Edges. Add edge lists to merged ontologies.  \n",
    "\n",
    "3. Add Inverse Relations and Node Data. See the [Dependencies](https://github.com/callahantiff/PheKnowLator/wiki/Dependencies) Wiki page for details on how to construct these resources.  \n",
    "\n",
    "4. Filter OWL Semantics. Filter the knowledge graph with the goal of removing all edges that contain entities that are needed to support owl semantics, but are not biologically meaningful (please see [here](https://github.com/callahantiff/PheKnowLator/wiki/OWL-NETS-2.0) for additional information).\n",
    "\n",
    "5. Save Edge Lists and Node Metadata. Several versions of the knowledge graph are saved, including: the full knowledge graph (`owl` or Networkx MultiDiGraph `pickle`), triple lists (i.e. integer index and identifier labeled edge lists with a dictionary that maps between the integer indices and node identifiers), and a file of metadata (i.e. identifiers, labels, synonyms, and descriptions) for all nodes in the knowledge graph.  \n",
    "\n",
    "<br>\n",
    "\n",
    "**‼ IMPORTANT:**  \n",
    "- The file containing the merged ontologies is quite large and can take up to 10 minutes to read in.  This is not a limitation of the code directly, but rather a function of the [`RDFLib Library`](https://github.com/RDFLib). While there are other ways to read in this data, we maintain reliance on this library as it is the most user-friendly for non-RDF users.   \n",
    "- If you'd like to include [node metadata](https://github.com/callahantiff/PheKnowLator/wiki/Dependencies#node-metadata) when building the knowledge graph, please hold off on building the knowledge graph until you have generated the node data. For details on how to do this see the [node metadata](https://github.com/callahantiff/PheKnowLator/wiki/Dependencies#node-metadata) section of the `Dependencies` Wiki Page or help for help with generating the data, please see the []() section of the [`Data_Preparation.ipynb`](https://github.com/callahantiff/PheKnowLator/blob/master/notebooks/Data_Preparation.ipynb) Jupyter Notebook.\n",
    "\n",
    "***\n"
   ]
  },
  {
   "cell_type": "code",
   "execution_count": 55,
   "metadata": {
    "id": "pfqF4Y3KRYRh"
   },
   "outputs": [],
   "source": [
    "# specify input arguments\n",
    "build = 'full'\n",
    "construction_approach = 'instance'\n",
    "add_node_data_to_kg = 'no'\n",
    "add_inverse_relations_to_kg = 'no'\n",
    "decode_owl_semantics = 'no'\n",
    "kg_directory_location = './resources/knowledge_graphs'"
   ]
  },
  {
   "cell_type": "code",
   "execution_count": null,
   "metadata": {
    "id": "oRrIyi22RYRh",
    "outputId": "dcccf5e7-c73d-4717-ad2b-5dc4e6c7d827",
    "scrolled": true
   },
   "outputs": [
    {
     "name": "stdout",
     "output_type": "stream",
     "text": [
      "\n",
      "### Starting Knowledge Graph Build: FULL ###\n",
      "*** Loading Relations Data ***\n",
      "*** Loading Merged Ontologies ***\n",
      "Merged Ontologies Graph Stats: 6038646 triples, 798212 nodes, 137 predicates, 59407 classes, 20 individuals, 740 object props, 303 annotation props\n",
      "*** Loading Node Metadata Data ***\n",
      "*** Splitting Graph ***\n",
      "Adding Namespace to BNodes\n",
      "Creating Logic and Annotation Subsets of Graph\n"
     ]
    },
    {
     "name": "stderr",
     "output_type": "stream",
     "text": [
      "100%|██████████| 305384/305384 [01:46<00:00, 2861.46it/s]\n",
      "  0%|          | 790/4335644 [00:00<4:57:53, 242.52it/s]"
     ]
    },
    {
     "name": "stdout",
     "output_type": "stream",
     "text": [
      "Annotation Assertions (n=1703002 Triples)\n",
      "Creating Logic Graph (n=4335644 Triples)\n"
     ]
    },
    {
     "name": "stderr",
     "output_type": "stream",
     "text": [
      " 86%|████████▌ | 3738602/4335644 [01:13<00:05, 100177.53it/s]"
     ]
    }
   ],
   "source": [
    "# construct knowledge graphs\n",
    "if build == 'partial':\n",
    "    kg = PartialBuild(construction=construction_approach,\n",
    "                      node_data=add_node_data_to_kg,\n",
    "                      inverse_relations=add_inverse_relations_to_kg,\n",
    "                      decode_owl=decode_owl_semantics,\n",
    "                      cpus=cpus,\n",
    "                      write_location=kg_directory_location)\n",
    "elif build == 'post-closure':\n",
    "    kg = PostClosureBuild(construction=construction_approach,\n",
    "                          node_data=add_node_data_to_kg,\n",
    "                          inverse_relations=add_inverse_relations_to_kg,\n",
    "                          decode_owl=decode_owl_semantics,\n",
    "                          cpus=cpus,\n",
    "                          write_location=kg_directory_location)\n",
    "else:\n",
    "    kg = FullBuild(construction=construction_approach,\n",
    "                   node_data=add_node_data_to_kg,\n",
    "                   inverse_relations=add_inverse_relations_to_kg,\n",
    "                   decode_owl=decode_owl_semantics,\n",
    "                   cpus=cpus,\n",
    "                   write_location=kg_directory_location)\n",
    "\n",
    "kg.construct_knowledge_graph()\n",
    "ray.shutdown()"
   ]
  },
  {
   "cell_type": "markdown",
   "metadata": {
    "id": "wdZ8PNCQRYRj"
   },
   "source": [
    "<br>\n",
    "\n",
    "***\n",
    "***\n",
    "\n",
    "```\n",
    "@misc{callahan_tj_2019_3401437,\n",
    "  author       = {Callahan, TJ},\n",
    "  title        = {PheKnowLator},\n",
    "  month        = mar,\n",
    "  year         = 2019,\n",
    "  doi          = {10.5281/zenodo.3401437},\n",
    "  url          = {https://doi.org/10.5281/zenodo.3401437}\n",
    "}\n",
    "```"
   ]
  }
 ],
 "metadata": {
  "colab": {
   "provenance": []
  },
  "kernelspec": {
   "display_name": "Python 3",
   "language": "python",
   "name": "python3"
  },
  "language_info": {
   "codemirror_mode": {
    "name": "ipython",
    "version": 3
   },
   "file_extension": ".py",
   "mimetype": "text/x-python",
   "name": "python",
   "nbconvert_exporter": "python",
   "pygments_lexer": "ipython3",
   "version": "3.8.5"
  },
  "latex_envs": {
   "LaTeX_envs_menu_present": true,
   "autoclose": false,
   "autocomplete": true,
   "bibliofile": "biblio.bib",
   "cite_by": "apalike",
   "current_citInitial": 1,
   "eqLabelWithNumbers": true,
   "eqNumInitial": 1,
   "hotkeys": {
    "equation": "Ctrl-E",
    "itemize": "Ctrl-I"
   },
   "labels_anchors": false,
   "latex_user_defs": false,
   "report_style_numbering": false,
   "user_envs_cfg": false
  },
  "pycharm": {
   "stem_cell": {
    "cell_type": "raw",
    "metadata": {
     "collapsed": false
    },
    "source": []
   }
  },
  "toc": {
   "base_numbering": 1,
   "nav_menu": {},
   "number_sections": false,
   "sideBar": false,
   "skip_h1_title": false,
   "title_cell": "Table of Contents",
   "title_sidebar": "Contents",
   "toc_cell": false,
   "toc_position": {},
   "toc_section_display": false,
   "toc_window_display": false
  }
 },
 "nbformat": 4,
 "nbformat_minor": 1
}
