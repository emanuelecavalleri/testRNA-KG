{
 "cells": [
  {
   "cell_type": "markdown",
   "metadata": {
    "id": "7SnUxsLO5ldc"
   },
   "source": [
    "# <p style=\"text-align: center;\">RNA Knowledge Graph Analysis and Enhancement</p>\n",
    "    \n",
    "***\n",
    "***\n",
    "\n",
    "**Authors:** [ECavalleri](https://mail.google.com/mail/u/0/?view=cm&fs=1&tf=1&to=emanuele.cavalleri@unimi.it), [ACabri](https://mail.google.com/mail/u/0/?view=cm&fs=1&tf=1&to=alberto.cabri@unimi.it), [MSGomez](https://mail.google.com/mail/u/0/?view=cm&fs=1&tf=1&to=mauricio.soto@unimi.it), [MMesiti](https://mail.google.com/mail/u/0/?view=cm&fs=1&tf=1&to=marco.mesiti@unimi.it)\n",
    "\n",
    "**GitHub Repositories:** [testRNA-KG](https://github.com/emanuelecavalleri/testRNA-KG), [PheKnowLator](https://github.com/callahantiff/PheKnowLator/)\n",
    "  \n",
    "<br>  \n",
    "  \n",
    "**Purpose:** We analyze and visualize our KG topology and import it into a Neo4j storage. The Neo4j instance will encompass properties of single edges, thereby enriching the biomedical KG. This approach allows us to capture the provenance of relations, enabling us to assess the reliability of different sources (a source can be more reliable than another one and therefore we can decide to keep only information from more reliable source(s) or we can rely more on edges that are present in more than one database), the context in which relations exist (a \"miRNA-gene\" interaction that is not general but occurs in a specific cell line), such as their appearance in case-control studies or cohort studies, eliminate relationships not documented before a specific date (e.g., 2017) to evaluate if machine learning algorithms can predict these relationships, add scores (e.g., False Discovery Rate -- FDR) associated with a certain relation that act as indicators that either enhance or reduce the validity of a relation.\n",
    "<br>\n",
    "\n",
    "**Assumptions:**   \n",
    "- Knowledge graphs ➞ `./resources/knowledge_graphs`\n",
    "<br>\n",
    "\n",
    "**Dependencies:**   \n",
    "- **Scripts**: This notebook makes use of the [`GRAPE`](https://github.com/AnacletoLAB/grape/) tool.  \n",
    "- **Data**: All downloaded and generated data sources are provided through [this](https://drive.google.com/drive/folders/1sev5zczMviX7UVqMhTpkFXG43K3nQa9f) dedicated Google Drive repository. \n",
    "_____\n",
    "***"
   ]
  },
  {
   "cell_type": "markdown",
   "metadata": {},
   "source": [
    "## Table of Contents\n",
    "***\n",
    "\n",
    "### [Preprocessing](#pre-processing)\n",
    "\n",
    "\n",
    "### [Neo4j](#neo4j)   \n",
    "\n",
    "\n",
    "### [GRAPE](#grape)  \n",
    "\n",
    "____\n",
    "***"
   ]
  },
  {
   "cell_type": "markdown",
   "metadata": {},
   "source": [
    "## Set-Up Environment\n",
    "***"
   ]
  },
  {
   "cell_type": "code",
   "execution_count": null,
   "metadata": {},
   "outputs": [],
   "source": [
    "# Run this to install/update grape\n",
    "#!pip install --upgrade grape ensmallen embiggen graphviz"
   ]
  },
  {
   "cell_type": "code",
   "execution_count": null,
   "metadata": {
    "id": "UA3Xq9f58Dd9"
   },
   "outputs": [],
   "source": [
    "# import needed libraries\n",
    "import pandas as pd\n",
    "import numpy as np\n",
    "from typing import Union\n",
    "import re\n",
    "import requests\n",
    "from tqdm import tqdm\n",
    "\n",
    "from grape import Graph, GraphVisualizer\n",
    "from grape.embedders import Node2VecCBOWEnsmallen\n",
    "\n",
    "tqdm.pandas()"
   ]
  },
  {
   "cell_type": "code",
   "execution_count": null,
   "metadata": {},
   "outputs": [],
   "source": [
    "# directory to write edges data to\n",
    "edge_data_location = '../resources/edge_data/'\n",
    "\n",
    "# directory to use for processing data\n",
    "processed_data_location = '../resources/processed_data/'\n",
    "\n",
    "# directory to use for metadata\n",
    "metadata_location = '../resources/property_data/'"
   ]
  },
  {
   "cell_type": "markdown",
   "metadata": {},
   "source": [
    "***\n",
    "# Preprocessing  <a class=\"anchor\" id=\"pre-processing\"></a>"
   ]
  },
  {
   "cell_type": "markdown",
   "metadata": {},
   "source": [
    "The aim of this section is defining the required file path to access the graph, the nodes and edges type lists."
   ]
  },
  {
   "cell_type": "code",
   "execution_count": null,
   "metadata": {},
   "outputs": [],
   "source": [
    "fpath = \"../resources/knowledge_graphs/\"\n",
    "graphname = \"PheKnowLator_v3.1.1_full_instance_inverseRelations_OWLNETS\"\n",
    "graphext = \".nt\"\n",
    "\n",
    "graph_fname = fpath+graphname+graphext\n",
    "\n",
    "colnames = [\"subject\",\"predicate\",\"object\",\"unused\"]"
   ]
  },
  {
   "cell_type": "code",
   "execution_count": null,
   "metadata": {},
   "outputs": [],
   "source": [
    "fulldata = pd.read_csv(graph_fname,sep=' ',header=None, names=colnames)\n",
    "fulldata.drop([colnames[3]],axis=1,inplace=True) # remove the last column containing the dot symbol\n",
    "fulldata.head()"
   ]
  },
  {
   "cell_type": "markdown",
   "metadata": {},
   "source": [
    "### Build the nodes dataframe\n",
    "This is extracted from the list of nodes in the graph file and is then integrated with the relevant object types as a new column named \"type\"."
   ]
  },
  {
   "cell_type": "code",
   "execution_count": null,
   "metadata": {},
   "outputs": [],
   "source": [
    "nodes_df = pd.DataFrame(set(fulldata[colnames[0]])|set(fulldata[colnames[2]]),columns=[\"name\"])\n",
    "nodes_df.dropna(inplace=True)\n",
    "nodes_df.head()"
   ]
  },
  {
   "cell_type": "code",
   "execution_count": null,
   "metadata": {},
   "outputs": [],
   "source": [
    "print('Number of nodes in ' + graph_fname + ': ' + str(len(nodes_df)))"
   ]
  },
  {
   "cell_type": "code",
   "execution_count": null,
   "metadata": {},
   "outputs": [],
   "source": [
    "# Full mapping for all node types in RNA-KG\n",
    "RNAonly = False # when false all nodes are considered otherwise only RNA nodes are selected\n",
    "\n",
    "def uri2ntype(uri: str)->Union[str,None]:\n",
    "    \n",
    "    retval = None\n",
    "    \n",
    "    # match regular expression for all RNA genes in ncbi format\n",
    "    retlist=re.split(r\"gene/[\\w\\-]+[?]\", uri)\n",
    "    if len(retlist) == 2:  # pattern matched therefore list item 1 contains the RNA type\n",
    "        value = retlist[1][:-1]\n",
    "        if value == \"others\":\n",
    "            retval = \"otherRNA\"\n",
    "        elif value == \"pseudo\":\n",
    "            retval = \"Pseudogene\"\n",
    "        elif value == \"unknown\":\n",
    "            retval = \"unknown RNA\"\n",
    "        else:\n",
    "            retval = value\n",
    "    # regular expressions didn't match -> continue with direct string matching\n",
    "    elif (\"https://www.mirbase.org/\" in uri): \n",
    "        retval = \"miRNA\"\n",
    "    elif (\"https://www.addgene.org/\" in uri):\n",
    "        retval = \"gRNA\"\n",
    "    elif (\"https://www.ncbi.nlm.nih.gov/nuccore/\" in uri):\n",
    "        retval = \"Viral RNA\"\n",
    "    elif (\"http://web.mit.edu/sirna/\" in uri):\n",
    "        retval = \"s(i/h)RNA\"\n",
    "    elif (\"https://hanlab.uth.edu/HeRA\" in uri): \n",
    "        retval = \"eRNA\"\n",
    "    elif (\"http://bigdata.ibp.ac.cn/piRBase\" in uri): \n",
    "        retval = \"piRNA\"\n",
    "    elif (\"http://scottgroup.med.usherbrooke.ca/snoDB\" in uri): \n",
    "        retval = \"rRNA\"\n",
    "    elif (\"tRNA\" in uri) or (\"trna\" in uri) or (\"TRNA\" in uri):\n",
    "        retval = \"tRNA\"\n",
    "    elif (\"tRF\" in uri) or (\"trf\" in uri):\n",
    "        retval = \"tRF\"\n",
    "    elif (\"tsRNA\" in uri): \n",
    "        retval = \"tsRNA\"\n",
    "    elif (\"https://go.drugbank.com/drugs/\" in uri): \n",
    "        retval = \"RNA drug\"\n",
    "    elif (\"https://eskip-finder.org\" in uri): \n",
    "        retval = \"ASO\"\n",
    "    elif (\"https://www.aptagen.com/aptamer-details\" in uri): \n",
    "        retval = \"Aptamer\"\n",
    "    elif (\"retained_intron\" in uri): \n",
    "        retval = \"Retained intron\"\n",
    "    elif (\"tbdb.io/tboxes/\" in uri) or (\"penchovsky\" in uri):\n",
    "        retval = \"Riboswitch\"\n",
    "    elif (\"http://rfamlive.xfam.org/\" in uri):\n",
    "        retval = \"Ribozyme\"\n",
    "    elif not RNAonly:    \n",
    "        if (\"http://purl.obolibrary.org/obo/MONDO\" in uri) or (\"purl.obolibrary.org/obo/DOID\" in uri) or (\"ghr.nlm.nih.gov/condition\" in uri) or (\"rarediseases.info.nih.gov/diseases\" in uri):\n",
    "            retval = \"Disease\"\n",
    "        elif (\"purl.obolibrary.org/obo/IDO\" in uri):\n",
    "            retval = \"Infectious disease\"\n",
    "        elif (\"purl.obolibrary.org/obo/MFOMD\" in uri):\n",
    "            retval = \"Mental disease\"\n",
    "        elif (\"http://purl.obolibrary.org/obo/GO\" in uri):\n",
    "            retval = \"GO\"\n",
    "        elif (\"http://purl.obolibrary.org/obo/CHR\" in uri):\n",
    "            retval = \"Chromosome\"\n",
    "        elif (\"http://purl.obolibrary.org/obo/SO\" in uri):\n",
    "            retval = \"Sequence\"\n",
    "        elif (\"http://purl.obolibrary.org/obo/VO\" in uri):\n",
    "            retval = \"Vaccine\"\n",
    "        elif (\"http://purl.obolibrary.org/obo/CHEBI\" in uri): \n",
    "            retval = \"Chemical\"\n",
    "        elif (\"http://purl.obolibrary.org/obo/PR\" in uri) or (\"http://purl.obolibrary.org/obo/vo/ontorat/PR\" in uri): \n",
    "            retval = \"Protein\"\n",
    "        elif (\"http://purl.obolibrary.org/obo/PW\" in uri) or (\"https://reactome.org/content/detail/\" in uri): \n",
    "            retval = \"Pathway\"\n",
    "        elif (\"http://purl.obolibrary.org/obo/VO\" in uri): \n",
    "            retval = \"Vaccine\"\n",
    "        elif (\"http://purl.obolibrary.org/obo/FOODON\" in uri): \n",
    "            retval = \"Food\"\n",
    "        elif (\"http://purl.obolibrary.org/obo/MF\" in uri): \n",
    "            retval = \"Mental functioning\"\n",
    "        elif (\"http://purl.obolibrary.org/obo/OGMS\" in uri): \n",
    "            retval = \"General medical science\"\n",
    "        elif (\"http://purl.obolibrary.org/obo/MAXO\" in uri): \n",
    "            retval = \"Medical action\"\n",
    "        elif (\"https://www.ncbi.nlm.nih.gov/snp/\" in uri):\n",
    "            retval = \"Variant (SNP)\"\n",
    "        elif (\"http://purl.obolibrary.org/obo/NBO\" in uri):\n",
    "            retval = \"Neuro behaviour\"\n",
    "        elif (\"https://www.genome.gov/genetics-glossary/\" in uri):\n",
    "            retval = \"Biological role\"\n",
    "        elif  (\"http://purl.obolibrary.org/obo/CARO\" in uri) or (\"http://purl.obolibrary.org/obo/UBERON\" in uri) or (\"http://sig.uw.edu/fma\" in uri) or (\"http://purl.obolibrary.org/obo/FMA\" in uri): \n",
    "            retval = \"Anatomy\"  \n",
    "        elif  (\"http://purl.obolibrary.org/obo/NCIT\" in uri): \n",
    "            retval = \"NCI thesaurus\" \n",
    "        elif (\"http://purl.obolibrary.org/obo/FBbt\" in uri):\n",
    "            retval = \"Drosophila anatomy\" \n",
    "        elif (\"http://purl.obolibrary.org/obo/CL_\" in uri): \n",
    "            retval = \"Cell\"\n",
    "        elif (\"http://purl.obolibrary.org/obo/CLO\" in uri) or (\"http://www.ebi.ac.uk/cellline\" in uri): \n",
    "            retval = \"Cell line\"\n",
    "        elif (\"http://purl.obolibrary.org/obo/HP\" in uri) or (\"http://purl.obolibrary.org/obo/PATO\" in uri) or (\"http://purl.obolibrary.org/obo/UPHENO\" in uri): \n",
    "            retval = \"Phenotype\"\n",
    "        elif (\"http://purl.obolibrary.org/obo/GNO\" in uri): \n",
    "            retval = \"Glycan\"\n",
    "        elif (\"http://purl.obolibrary.org/obo/BFO\" in uri): \n",
    "            retval = \"Basic formal\"\n",
    "        elif (\"http://purl.obolibrary.org/obo/ENVO\" in uri): \n",
    "            retval = \"Environment\"\n",
    "        elif (\"http://purl.obolibrary.org/obo/ECTO\" in uri): \n",
    "            retval = \"Environmental exposure\"\n",
    "        elif (\"www.ncbi.nlm.nih.gov/gene\" in uri) or (\"http://purl.obolibrary.org/obo/OGG\" in uri):\n",
    "            retval = \"Gene\"\n",
    "        elif (\"http://purl.obolibrary.org/obo/OGG\" in uri):\n",
    "            retval = \"Genome\"\n",
    "        elif (\"www.ncbi.nlm.nih.gov/Taxonomy/Browser\" in uri) or (\"purl.obolibrary.org/obo/NCBITaxon\" in uri): \n",
    "            retval = \"Species\"\n",
    "        elif (\"https://www.encodeproject.org/targets\" in uri): \n",
    "            retval = \"Epigenetic modification\"\n",
    "        elif (\"crdd.osdd.net/raghava/dbem?\" in uri): \n",
    "            retval = \"Histone modification\"\n",
    "        elif (\"bigdata.ibp.ac.cn/SmProt/SmProt.php?ID\" in uri): \n",
    "            retval = \"Small protein\"\n",
    "        elif (\"snomedct\" in uri) or (\"SNOMEDCT\" in uri): \n",
    "            retval = \"snomedct\"\n",
    "        elif (\"http://www.ebi.ac.uk/efo/EFO\" in uri): \n",
    "            retval = \"Experimental factor\"\n",
    "        elif (\"http://purl.obolibrary.org/obo/HsapDv\" in uri): \n",
    "            retval = \"Human developmental stage\"\n",
    "        elif (\"http://www.w3.org/2002/07/owl#Nothing\" in uri): \n",
    "            retval = \"owlNothing\"\n",
    "        elif (\"http://purl.obolibrary.org/obo/\" in uri):    # all unmapped obo types are dealt with here\n",
    "            retlist = re.split(r\"obo/\",uri)\n",
    "            retval = retlist[1].split('_', 1)[0]\n",
    "            \n",
    "    else:\n",
    "        retval = None\n",
    "\n",
    "    return retval"
   ]
  },
  {
   "cell_type": "code",
   "execution_count": null,
   "metadata": {},
   "outputs": [],
   "source": [
    "%%time\n",
    "ntypes_list = []\n",
    "for u in tqdm(nodes_df[\"name\"].values):\n",
    "    nty = uri2ntype(u)\n",
    "    ntypes_list.append(nty)\n",
    "\n",
    "nodes_df.loc[:,\"type\"] = ntypes_list\n",
    "nodes_df.tail()"
   ]
  },
  {
   "cell_type": "code",
   "execution_count": null,
   "metadata": {},
   "outputs": [],
   "source": [
    "nodes_df['type'].unique()"
   ]
  },
  {
   "cell_type": "code",
   "execution_count": null,
   "metadata": {},
   "outputs": [],
   "source": [
    "print(\"Unassigned node types:\", nodes_df.type.isna().sum())\n",
    "nodes_df.type.fillna('undefined',inplace=True)\n",
    "\n",
    "nodes_df = nodes_df.dropna()\n",
    "nodes_df.tail()"
   ]
  },
  {
   "cell_type": "markdown",
   "metadata": {},
   "source": [
    "### Build the edges dataframe"
   ]
  },
  {
   "cell_type": "code",
   "execution_count": null,
   "metadata": {},
   "outputs": [],
   "source": [
    "# extract from graph those codes which refer only to edges, maintaining their\n",
    "# id as from the graph numerical codes\n",
    "ety_df = pd.DataFrame(set(fulldata[colnames[1]]),columns=[\"name\"])\n",
    "#ety_df=fulluri[fulluri.id.isin(ecodes)]\n",
    "#ety_df.reset_index(drop=True,inplace=True)\n",
    "ety_df.head()"
   ]
  },
  {
   "cell_type": "code",
   "execution_count": null,
   "metadata": {},
   "outputs": [],
   "source": [
    "# split camel case strings, e.g., \"overexpressedIn\" --> \"overexpressed in\"\n",
    "def camel_case_split(identifier):\n",
    "    matches = re.finditer('.+?(?:(?<=[a-z])(?=[A-Z])|(?<=[A-Z])(?=[A-Z][a-z])|$)', identifier)\n",
    "    return [m.group(0) for m in matches]\n",
    "\n",
    "# automatically match all OBO items for the specified ontologies\n",
    "hdr = {'Accept': 'application/json'}\n",
    "ontos = [\"ro\",\"bspo\",\"vo\",\"clo\",\"mondo\",\"ogg\",\"cl\",\"mf\"]\n",
    "tomatch = \"http://purl.obolibrary.org/obo/\"\n",
    "\n",
    "def uri2etype(uri: str)->Union[str,None]:\n",
    "    label = None\n",
    "    for oy in ontos:\n",
    "        baseuri = f\"https://www.ebi.ac.uk/ols4/api/ontologies/{oy}/properties?iri={uri[1:-1]}\"\n",
    "        try:\n",
    "            res = requests.get(baseuri,hdr).json()\n",
    "            label=res['_embedded']['properties'][0]['label']\n",
    "            label=label.lower().capitalize()\n",
    "        except:\n",
    "            pass\n",
    "\n",
    "    if (\"http://www.w3.org/1999/02/22-rdf-syntax-ns#type\" in uri):   \n",
    "        label = \"Type\"  \n",
    "    elif (\"http://www.w3.org/2000/01/rdf-schema#subClassOf\" in uri):   \n",
    "        label = \"SubClass of\" \n",
    "    # new manually set edges by splitting over the # symbol of the uri\n",
    "    elif (\"http://semanticscience.org/resource/SIO_000420\" in uri):   \n",
    "        label = \"Has expression\" \n",
    "    elif (\"http://purl.obolibrary.org/obo/CLO_0054408\" in uri):   \n",
    "        label = \"Overexpresses gene\"\n",
    "    elif (\"http://purl.obolibrary.org/obo/CLO_0054409\" in uri):   \n",
    "        label = \"Adenoma formation induced by cell lineage cells in mice\"\n",
    "    elif (\"http://purl.obolibrary.org/obo/uberon/core\" in uri) or \\\n",
    "         (\"http://purl.obolibrary.org/obo/mondo\" in uri) or \\\n",
    "         (\"http://purl.obolibrary.org/obo/so\" in uri) or \\\n",
    "         (\"http://purl.obolibrary.org/obo/envo\" in uri) or \\\n",
    "         (\"http://purl.obolibrary.org/obo/pr\" in uri) or \\\n",
    "         (\"http://purl.obolibrary.org/obo/pato\" in uri) or \\\n",
    "         (\"http://purl.obolibrary.org/obo/pw\" in uri) or \\\n",
    "         (\"http://purl.obolibrary.org/obo/exo.obo\" in uri) or \\\n",
    "         (\"http://purl.obolibrary.org/obo/cl\" in uri) or \\\n",
    "         (\"http://purl.obolibrary.org/obo/nbo\" in uri) or \\\n",
    "         (\"http://purl.obolibrary.org/obo/MF\" in uri) or \\\n",
    "         (\"http://www.obofoundry.org/ro\" in uri) or \\\n",
    "         (\"http://purl.obolibrary.org/obo/chebi\" in uri):\n",
    "            label = uri[1:-1].split(\"#\")[1]\n",
    "            label = '_'.join(camel_case_split(label))\n",
    "            label = label.replace('_',' ').lower().capitalize()\n",
    "    else:\n",
    "        pass\n",
    "    \n",
    "    return label"
   ]
  },
  {
   "cell_type": "code",
   "execution_count": null,
   "metadata": {},
   "outputs": [],
   "source": [
    "%%time\n",
    "etypes_list = []\n",
    "for u in tqdm(ety_df[\"name\"].values):\n",
    "    ety = uri2etype(u)\n",
    "    etypes_list.append(ety)\n",
    "\n",
    "ety_df.loc[:,\"type\"] = etypes_list\n",
    "ety_df.tail()"
   ]
  },
  {
   "cell_type": "code",
   "execution_count": null,
   "metadata": {},
   "outputs": [],
   "source": [
    "print(\"Unassigned edge types:\",ety_df.type.isna().sum())\n",
    "#ety_df.type.fillna('undefined',inplace=True)\n",
    "#ety_df = ety_df.dropna()"
   ]
  },
  {
   "cell_type": "code",
   "execution_count": null,
   "metadata": {},
   "outputs": [],
   "source": [
    "%%time\n",
    "# add the type column to the original graph structure\n",
    "edges_df = fulldata.copy()\n",
    "\n",
    "efmap = lambda x: ety_df.type[np.where(ety_df['name'].eq(x))[0][0]]\n",
    "edges_df[\"type\"] = edges_df[colnames[1]].progress_apply(efmap)\n",
    "edges_df.tail()"
   ]
  },
  {
   "cell_type": "markdown",
   "metadata": {},
   "source": [
    "***\n",
    "# Neo4j  <a class=\"anchor\" id=\"neo4j\"></a>\n",
    "We start from properties (metadata) stored by PheKnowLator when generating the OWLNETS version of our KG."
   ]
  },
  {
   "cell_type": "code",
   "execution_count": null,
   "metadata": {},
   "outputs": [],
   "source": [
    "properties = pd.read_csv('../resources/knowledge_graphs/PheKnowLator_v3.1.1_full_instance_inverseRelations_OWLNETS_NodeLabels.txt',\n",
    "            sep='\\t')\n",
    "node_properties = properties[properties['entity_type'] == 'NODES']\n",
    "node_properties"
   ]
  },
  {
   "cell_type": "code",
   "execution_count": null,
   "metadata": {},
   "outputs": [],
   "source": [
    "neo4jnodes_df = nodes_df.copy()\n",
    "neo4jnodes_df = pd.merge(neo4jnodes_df, node_properties, left_on='name', right_on='entity_uri', how='outer')\n",
    "neo4jnodes_df = neo4jnodes_df[['name', 'type', 'label', 'description/definition', 'synonym']]\n",
    "neo4jnodes_df"
   ]
  },
  {
   "cell_type": "code",
   "execution_count": null,
   "metadata": {},
   "outputs": [],
   "source": [
    "neo4jedges_df = ety_df.copy()\n",
    "edge_properties = properties[properties['entity_type'] == 'RELATIONS']\n",
    "neo4jedges_df = pd.merge(neo4jedges_df, edge_properties, left_on='name', right_on='entity_uri', how='outer')\n",
    "neo4jedges_df = neo4jedges_df[['name', 'type', 'description/definition', 'synonym']]\n",
    "neo4jedges_df = neo4jedges_df.rename(columns={'type':'label'})\n",
    "neo4jedges_df"
   ]
  },
  {
   "cell_type": "code",
   "execution_count": null,
   "metadata": {},
   "outputs": [],
   "source": [
    "neo4jedges_df = pd.merge(neo4jedges_df, edges_df, left_on='name', right_on='predicate', how='outer')\n",
    "neo4jedges_df = neo4jedges_df[['subject','predicate','object','label','description/definition','synonym']]\n",
    "neo4jedges_df"
   ]
  },
  {
   "cell_type": "markdown",
   "metadata": {},
   "source": [
    "### gene-disease from [Human Disease Molecular Mechanisms](https://github.com/callahantiff/PheKnowLator/wiki/Building-a-KG-of-Human-Disease-Molecular-Mechanisms) (PKT-built)\n",
    "Using a Neo4j system we can also store single-edges' metadata. Let's start with `gene-disease` ones."
   ]
  },
  {
   "cell_type": "code",
   "execution_count": null,
   "metadata": {},
   "outputs": [],
   "source": [
    "# Utility function to merge attributes on the same relation (same row on a CSV) as a list since subject and object are the pivot elements\n",
    "# for join operations. See next cell for an example of how it works\n",
    "def merge_rows(df, column1, column2):\n",
    "    df = df.drop_duplicates()\n",
    "    df_merged = df.groupby([column1, column2]).agg(lambda x: '|'.join(set(str(i) for i in x if pd.notnull(i)))).reset_index()\n",
    "    return df_merged.drop_duplicates()"
   ]
  },
  {
   "cell_type": "raw",
   "metadata": {},
   "source": [
    "Example:\n",
    "a b c  --> a b c\n",
    "1 2 £      1 2 %|£\n",
    "1 2 %      1 3 $\n",
    "1 3 $"
   ]
  },
  {
   "cell_type": "code",
   "execution_count": null,
   "metadata": {},
   "outputs": [],
   "source": [
    "data = {'a': [1, 1, 1],\n",
    "    'b': [2, 2, 3],\n",
    "    'c': ['£', '%', '$']}\n",
    "\n",
    "df = pd.DataFrame(data)\n",
    "print(df)\n",
    "print('merge_rows:')\n",
    "print(merge_rows(df, 'a', 'b'))"
   ]
  },
  {
   "cell_type": "markdown",
   "metadata": {},
   "source": [
    "We need to manually process data (i.e., do what PKT does for us by processing resource_info input) to append single edge properties. "
   ]
  },
  {
   "cell_type": "code",
   "execution_count": null,
   "metadata": {},
   "outputs": [],
   "source": [
    "list(pd.read_csv('../resources/resource_info.txt', sep='|', header=None).loc[0])"
   ]
  },
  {
   "cell_type": "code",
   "execution_count": null,
   "metadata": {},
   "outputs": [],
   "source": [
    "gene_disease = pd.read_csv(edge_data_location + 'gene-disease_curated_gene_disease_associations.tsv', sep='\\t', names=[\n",
    "    'geneId','geneSymbol','DSI','DPI','diseaseId','diseaseName','diseaseType','diseaseClass','diseaseSemanticType','score','EI',\n",
    "    'YearInitial','YearFinal','NofPmids','NofSnps','Source(s)']).drop(columns=['geneSymbol','diseaseName','diseaseClass',\n",
    "                                                                               'diseaseSemanticType','diseaseType'])\n",
    "gene_disease['geneId'] = '<http://www.ncbi.nlm.nih.gov/gene/' + gene_disease['geneId'].astype(str) + '>'\n",
    "gene_disease = gene_disease[gene_disease['EI'] >= 1.0]\n",
    "gene_disease['YearInitial'] = gene_disease['YearInitial'].astype('str').str.replace('.0', '')\n",
    "gene_disease['YearFinal'] = gene_disease['YearFinal'].astype('str').str.replace('.0', '')\n",
    "gene_disease['Source(s)'] = gene_disease['Source(s)'].str.replace(';', '|')\n",
    "\n",
    "gene_disease = pd.merge(gene_disease, pd.read_csv(processed_data_location + 'DISEASE_MONDO_MAP.txt', sep='\\t', header=None),\n",
    "                        left_on='diseaseId', right_on=0).drop(columns=[0,'diseaseId'])\n",
    "gene_disease[1] = '<http://purl.obolibrary.org/obo/' + gene_disease[1] + '>'\n",
    "gene_disease.rename(columns={'geneId':'subject', 1:'object'}, inplace=True)\n",
    "gene_disease = gene_disease[['subject', 'object', 'DSI', 'DPI', 'YearInitial', 'YearFinal', 'NofPmids', 'NofSnps', 'score', 'EI', 'Source(s)']]\n",
    "gene_disease = merge_rows(gene_disease, 'subject', 'object')\n",
    "gene_disease"
   ]
  },
  {
   "cell_type": "code",
   "execution_count": null,
   "metadata": {},
   "outputs": [],
   "source": [
    "test = pd.merge(neo4jedges_df, gene_disease, on=['subject','object'], how='left')\n",
    "test[test['subject'] == '<http://www.ncbi.nlm.nih.gov/gene/100126334>']"
   ]
  },
  {
   "cell_type": "markdown",
   "metadata": {},
   "source": [
    "***\n",
    "### gene-miRNA from [TarBase](https://dianalab.e-ce.uth.gr/html/diana/web/index.php?r=tarbasev8/index)"
   ]
  },
  {
   "cell_type": "code",
   "execution_count": null,
   "metadata": {},
   "outputs": [],
   "source": [
    "list(pd.read_csv('../resources/resource_info.txt', sep='|', header=None).loc[1])"
   ]
  },
  {
   "cell_type": "code",
   "execution_count": null,
   "metadata": {},
   "outputs": [],
   "source": [
    "gene_miRNA = pd.read_csv(edge_data_location + 'gene-miRNA_TarBase_v8_download.txt',\n",
    "                         names=['geneId','geneName','mirna','species','cell_line','tissue','category','method','positive_negative',\n",
    "                                'direct_indirect',\n",
    "                                'up_down','condition','transcript(3p/5p)'], sep='\\t').drop(columns=['geneName','species'])\n",
    "\n",
    "gene_miRNA = pd.merge(gene_miRNA, pd.read_csv(processed_data_location + 'ENSEMBL_GENE_ENTREZ_GENE_MAP.txt', sep='\\t', header=None),\n",
    "                      left_on='geneId', right_on=0).drop(columns=['geneId',0,2,3,4,5])\n",
    "gene_miRNA[1] = '<http://www.ncbi.nlm.nih.gov/gene/' + gene_miRNA[1].astype(str) + '>'\n",
    "gene_miRNA.rename(columns={1:'subject'}, inplace=True)\n",
    "gene_miRNA = pd.merge(gene_miRNA, pd.read_csv(processed_data_location + 'MIRBASE_ID_ACCESSION_MAP.txt', sep='\\t', header=None),\n",
    "                      left_on='mirna', right_on=0).drop(columns=['mirna',0])\n",
    "gene_miRNA[1] = '<https://www.mirbase.org/hairpin/' + gene_miRNA[1] + '>'\n",
    "gene_miRNA.rename(columns={1:'object'}, inplace=True)\n",
    "gene_miRNA = gene_miRNA[['subject', 'object'] + [col for col in gene_miRNA.columns if col not in ['subject', 'object']]]\n",
    "gene_miRNA['Source(s)'] = 'TarBase'\n",
    "\n",
    "gene_miRNA = merge_rows(gene_miRNA, 'subject', 'object')\n",
    "gene_miRNA"
   ]
  },
  {
   "cell_type": "markdown",
   "metadata": {},
   "source": [
    "We need to ground (as much as possible) properties! For instance, `HITS-CLIP` strings should be mapped on an appropriate ontology related to biological experiments."
   ]
  },
  {
   "cell_type": "code",
   "execution_count": null,
   "metadata": {},
   "outputs": [],
   "source": [
    "gene_miRNA.condition = gene_miRNA.condition.replace('', np.nan)\n",
    "gene_miRNA.up_down = gene_miRNA.up_down.replace('', np.nan)"
   ]
  },
  {
   "cell_type": "code",
   "execution_count": null,
   "metadata": {},
   "outputs": [],
   "source": [
    "gene_miRNA['cell_line'].unique()"
   ]
  },
  {
   "cell_type": "code",
   "execution_count": null,
   "metadata": {},
   "outputs": [],
   "source": [
    "gene_miRNA.cell_line = gene_miRNA.cell_line.replace('', np.nan).str.lower()\n",
    "gene_miRNA.cell_line = gene_miRNA.cell_line.str.replace('cells', 'cell')\n",
    "# I already prepared this look-up table and I won't bore you on that, btw the method to generate it is the same we saw in the first notebook\n",
    "# (I consider labels and synonyms in the CLO ontology which is community-based ontology of cell lines)\n",
    "desc_clo_map = pd.read_csv(processed_data_location + 'DESC_CLO_MAP.txt', header=None, sep='\\t')\n",
    "desc_clo_map2 = desc_clo_map.copy()\n",
    "desc_clo_map2[0] = desc_clo_map2[0].str.replace(' cell', '')\n",
    "desc_clo_map2[0] = desc_clo_map2[0].str.replace(' cells', '')\n",
    "desc_clo_map = pd.concat([desc_clo_map, desc_clo_map2])\n",
    "clo_dict = dict(zip(desc_clo_map[0], 'http://purl.obolibrary.org/obo/' + desc_clo_map[1] +\n",
    "                      ' (' + desc_clo_map[0] + ')'))\n",
    "\n",
    "def replace_with_clo(substring):\n",
    "    if pd.isna(substring):\n",
    "        return np.nan\n",
    "    else:\n",
    "        return '|'.join([clo_dict.get(part, part) for part in substring.split('|')])\n",
    "\n",
    "gene_miRNA.cell_line = [replace_with_clo(item) for item in gene_miRNA.cell_line]\n",
    "\n",
    "gene_miRNA.cell_line.unique()[:5]"
   ]
  },
  {
   "cell_type": "code",
   "execution_count": null,
   "metadata": {},
   "outputs": [],
   "source": [
    "gene_miRNA.tissue.unique()[:5]"
   ]
  },
  {
   "cell_type": "code",
   "execution_count": null,
   "metadata": {},
   "outputs": [],
   "source": [
    "gene_miRNA.tissue = gene_miRNA.tissue.replace('', np.nan).str.lower()\n",
    "gene_miRNA.tissue = gene_miRNA.tissue.str.replace(\"/\", '|')\n",
    "gene_miRNA.tissue = gene_miRNA.tissue.str.replace(\"larva, whole\", 'larva')\n",
    "gene_miRNA.tissue = gene_miRNA.tissue.str.replace(\"peripheral blood\", 'http://purl.obolibrary.org/obo/BTO_0000553 (peripheral blood)')\n",
    "gene_miRNA.tissue = gene_miRNA.tissue.str.replace(\"nervous\", 'http://purl.obolibrary.org/obo/UBERON_0003714 (neural tissue)')\n",
    "gene_miRNA.tissue = gene_miRNA.tissue.str.replace(\"gastric\", 'http://purl.obolibrary.org/obo/UBERON_0000945 (stomach)')\n",
    "gene_miRNA.tissue = gene_miRNA.tissue.str.replace(\"synovial\", 'http://purl.obolibrary.org/obo/UBERON_0002217 (synovial joint)')\n",
    "gene_miRNA.tissue = gene_miRNA.tissue.str.replace(\"ewing sarcoma\", 'http://purl.obolibrary.org/obo/MONDO_0012817 (ewing sarcoma)')\n",
    "\n",
    "# I already prepared this look-up table and I won't bore you on that, btw the method to generate it is the same we saw in the first notebook\n",
    "# (I consider labels and synonyms in the Uberon ontology which is an integrated cross-species anatomy ontology)\n",
    "desc_uberon_map = pd.read_csv(processed_data_location + 'DESC_EXT_MAP.txt', header=None, sep='\\t')\n",
    "uberon_dict = dict(zip(desc_uberon_map[0], 'http://purl.obolibrary.org/obo/' + desc_uberon_map[1] +\n",
    "                      ' (' + desc_uberon_map[0] + ')'))\n",
    "\n",
    "def replace_with_uberon(substring):\n",
    "    if pd.isna(substring):\n",
    "        return np.nan\n",
    "    else:\n",
    "        return '|'.join([uberon_dict.get(part, part) for part in substring.split('|')])\n",
    "\n",
    "gene_miRNA.tissue = [replace_with_uberon(item) for item in gene_miRNA.tissue]\n",
    "\n",
    "gene_miRNA.tissue.unique()[:5]"
   ]
  },
  {
   "cell_type": "code",
   "execution_count": null,
   "metadata": {},
   "outputs": [],
   "source": [
    "gene_miRNA['method'].unique()[:5]"
   ]
  },
  {
   "cell_type": "code",
   "execution_count": null,
   "metadata": {},
   "outputs": [],
   "source": [
    "gene_miRNA.method = gene_miRNA.method.replace('', np.nan).str.lower()\n",
    "gene_miRNA.method = gene_miRNA.method.str.replace(\"microarrays\", 'microarray')\n",
    "# I already prepared this look-up table and I won't bore you on that, btw the method to generate it is the same we saw in the first notebook\n",
    "# (I consider labels and synonyms in the NCIT ontology which is a reference terminology in biology and medicine)\n",
    "desc_ncit_map = pd.read_csv(processed_data_location + 'DESC_NCIT_MAP.txt', header=None, sep='\\t')\n",
    "ncit_dict = dict(zip(desc_ncit_map[0], 'http://purl.obolibrary.org/obo/' + desc_ncit_map[1] +\n",
    "                      ' (' + desc_ncit_map[0] + ')'))\n",
    "\n",
    "def replace_with_ncit(substring):\n",
    "    if pd.isna(substring):\n",
    "        return np.nan\n",
    "    else:\n",
    "        return '|'.join([ncit_dict.get(part, part) for part in substring.split('|')])\n",
    "\n",
    "gene_miRNA.method = [replace_with_ncit(item) for item in gene_miRNA.method]\n",
    "\n",
    "gene_miRNA.method.unique()[:5]"
   ]
  },
  {
   "cell_type": "code",
   "execution_count": null,
   "metadata": {},
   "outputs": [],
   "source": [
    "gene_miRNA"
   ]
  },
  {
   "cell_type": "code",
   "execution_count": null,
   "metadata": {},
   "outputs": [],
   "source": [
    "gene_miRNA.category.unique()"
   ]
  },
  {
   "cell_type": "code",
   "execution_count": null,
   "metadata": {},
   "outputs": [],
   "source": [
    "gene_miRNA.category = gene_miRNA.category.str.replace(',','|')\n",
    "gene_miRNA.category = gene_miRNA.category.str.replace('Embryonic/Fetal',\n",
    "                                                      'http://purl.obolibrary.org/obo/NCIT_C34100 (embryonic)')\n",
    "gene_miRNA.category = gene_miRNA.category.str.replace('Normal/Primary',\n",
    "                                                      'http://purl.obolibrary.org/obo/EFO_0009654 (reference sample)')\n",
    "gene_miRNA.category = gene_miRNA.category.str.replace('Cancer/Malignant', 'http://purl.obolibrary.org/obo/MONDO_0004992 (cancer)')\n",
    "gene_miRNA.category = gene_miRNA.category.str.replace('Stem/Progenitor',\n",
    "                                                      'http://purl.obolibrary.org/obo/CLO_0037224 (stem cell line cell)')\n",
    "gene_miRNA.category = gene_miRNA.category.str.replace('Pulmonary Artery',\n",
    "                                                      'http://purl.obolibrary.org/obo/NCIT_C12774 (pulmonary artery)')"
   ]
  },
  {
   "cell_type": "code",
   "execution_count": null,
   "metadata": {},
   "outputs": [],
   "source": [
    "gene_miRNA"
   ]
  },
  {
   "cell_type": "markdown",
   "metadata": {},
   "source": [
    "***\n",
    "### miRNA-disease from [miR2Disease](http://watson.compbio.iupui.edu:8080/miR2Disease/)"
   ]
  },
  {
   "cell_type": "code",
   "execution_count": null,
   "metadata": {},
   "outputs": [],
   "source": [
    "list(pd.read_csv('../resources/resource_info.txt', sep='|', header=None).loc[2])"
   ]
  },
  {
   "cell_type": "code",
   "execution_count": null,
   "metadata": {},
   "outputs": [],
   "source": [
    "miRNA_disease = pd.read_csv(edge_data_location + 'miRNA-disease_miR2Disease.txt',\n",
    "                            names=['DO','miRNA','Disease','Condition','Experiment','Year','Description'], sep='\\t').drop(columns='Disease')\n",
    "miRNA_disease = pd.merge(miRNA_disease, pd.read_csv(processed_data_location + 'DISEASE_DOID_MONDO_Map.txt', sep='\\t', header=None),\n",
    "                         left_on='DO', right_on=0).drop(columns=[0,'DO'])\n",
    "miRNA_disease = pd.merge(miRNA_disease, pd.read_csv(processed_data_location + 'MIRBASE_ID_ACCESSION_MAP.txt', sep='\\t', header=None),\n",
    "                         left_on='miRNA', right_on=0).drop(columns=[0,'miRNA'])\n",
    "\n",
    "miRNA_disease['1_x'] = '<http://purl.obolibrary.org/obo/' + miRNA_disease['1_x'].astype(str) + '>'\n",
    "miRNA_disease['1_y'] = '<https://www.mirbase.org/hairpin/' + miRNA_disease['1_y'].astype(str) + '>'\n",
    "miRNA_disease['Year'] = miRNA_disease['Year'].astype('str').str.replace('.0', '')\n",
    "\n",
    "miRNA_disease = miRNA_disease[['1_y','1_x','Condition','Experiment','Year','Description']]\n",
    "miRNA_disease.rename(columns={'1_x':'object','1_y':'subject'}, inplace=True)\n",
    "miRNA_disease['Source(s)'] = 'miR2Disease'\n",
    "miRNA_disease.head()"
   ]
  },
  {
   "cell_type": "code",
   "execution_count": null,
   "metadata": {},
   "outputs": [],
   "source": [
    "miRNA_disease.Condition.unique()"
   ]
  },
  {
   "cell_type": "code",
   "execution_count": null,
   "metadata": {},
   "outputs": [],
   "source": [
    "miRNA_disease[miRNA_disease['Condition'] == 'hepatocellular carcinoma (HCC)']\n",
    "# hepatocellular carcinoma (HCC) is an error due to the fact that this DB is manually compiled\n",
    "miRNA_disease.Condition = miRNA_disease.Condition.replace('hepatocellular carcinoma (HCC)', np.nan)"
   ]
  },
  {
   "cell_type": "code",
   "execution_count": null,
   "metadata": {},
   "outputs": [],
   "source": [
    "miRNA_disease.Condition = miRNA_disease.Condition.str.replace(\"down-regulated\",\n",
    "                                                              'http://purl.obolibrary.org/obo/OMIT_0016265 (down-regulation)')\n",
    "miRNA_disease.Condition = miRNA_disease.Condition.str.replace(\"up-regulated\",\n",
    "                                                              \"http://purl.obolibrary.org/obo/OMIT_0016489 (up-regulation)\")\n",
    "miRNA_disease.Condition = miRNA_disease.Condition.str.replace(\"normal\",\n",
    "                                                              \"http://purl.obolibrary.org/obo/OBI_0002584 (differential expression analysis data)\")"
   ]
  },
  {
   "cell_type": "code",
   "execution_count": null,
   "metadata": {},
   "outputs": [],
   "source": [
    "miRNA_disease.Experiment.unique()"
   ]
  },
  {
   "cell_type": "code",
   "execution_count": null,
   "metadata": {},
   "outputs": [],
   "source": [
    "miRNA_disease.Experiment = miRNA_disease.Experiment.str.replace('microarray', 'http://purl.obolibrary.org/obo/NCIT_C44282 (microarray)')\n",
    "miRNA_disease.Experiment = miRNA_disease.Experiment.str.replace('Northern blot, qRT-PCR etc', 'northern blot, qRT-PCR etc')\n",
    "miRNA_disease.Experiment = miRNA_disease.Experiment.str.replace('northern blot', 'http://purl.obolibrary.org/obo/NCIT_C16355 (northern blotting)')\n",
    "miRNA_disease.Experiment = miRNA_disease.Experiment.str.replace(', qRT-PCR etc', 'http://purl.obolibrary.org/obo/NCIT_C28408 (qrt-pcr)')"
   ]
  },
  {
   "cell_type": "code",
   "execution_count": null,
   "metadata": {},
   "outputs": [],
   "source": [
    "miRNA_disease"
   ]
  },
  {
   "cell_type": "code",
   "execution_count": null,
   "metadata": {},
   "outputs": [],
   "source": [
    "neo4jnodes_df.to_csv(metadata_location + 'nodes.csv', index=None)\n",
    "neo4jedges_df.to_csv(metadata_location + 'relationships.csv', index=None)\n",
    "gene_disease.to_csv(metadata_location + 'gene_disease.csv', index=None)\n",
    "gene_miRNA.to_csv(metadata_location + 'gene_miRNA.csv', index=None)\n",
    "miRNA_disease.to_csv(metadata_location + 'miRNA_disease.csv', index=None)"
   ]
  },
  {
   "cell_type": "markdown",
   "metadata": {},
   "source": [
    "In the subsequent chunks, we write Cypher scripts to import our KG in Neo4j. Since they are time-consuming, you skip the following steps: our KG is available at http://fievel.anacleto.di.unimi.it:7474/browser/. Data are stored within the (/ --> var --> lib --> neo4j -->) import folder."
   ]
  },
  {
   "cell_type": "raw",
   "metadata": {},
   "source": [
    "// Import KG\n",
    "CREATE CONSTRAINT n10s_unique_uri FOR (r:Resource) REQUIRE r.uri IS UNIQUE;\n",
    "CALL n10s.rdf.import.fetch(\"file:////Users/emanuelecavalleri/Downloads/PheKnowLator_v3.1.1_full_instance_inverseRelations_OWL.nt\", \"N-Triples\");"
   ]
  },
  {
   "cell_type": "raw",
   "metadata": {},
   "source": [
    "//Import nodes with properties\n",
    "LOAD CSV WITH HEADERS FROM \"file:///nodes.csv\" AS row\n",
    "WITH row\n",
    "WHERE row.type = \"Anatomy\"\n",
    "CREATE (n:`Anatomy` {name: row.name, label: row.label, description: row.`description/definition`, synonym: row.synonym});\n",
    "\n",
    "LOAD CSV WITH HEADERS FROM \"file:///nodes.csv\" AS row\n",
    "WITH row\n",
    "WHERE row.type = \"Disease\"\n",
    "CREATE (n:`Disease` {name: row.name, label: row.label, description: row.`description/definition`, synonym: row.synonym});\n",
    "\n",
    "LOAD CSV WITH HEADERS FROM \"file:///nodes.csv\" AS row\n",
    "WITH row\n",
    "WHERE row.type = \"Species\"\n",
    "CREATE (n:`Species` {name: row.name, label: row.label, description: row.`description/definition`, synonym: row.synonym});\n",
    "\n",
    "LOAD CSV WITH HEADERS FROM \"file:///nodes.csv\" AS row\n",
    "WITH row\n",
    "WHERE row.type = \"Cell\"\n",
    "CREATE (n:`Cell` {name: row.name, label: row.label, description: row.`description/definition`, synonym: row.synonym});\n",
    "\n",
    "LOAD CSV WITH HEADERS FROM \"file:///nodes.csv\" AS row\n",
    "WITH row\n",
    "WHERE row.type = \"Sequence\"\n",
    "CREATE (n:`Sequence` {name: row.name, label: row.label, description: row.`description/definition`, synonym: row.synonym});\n",
    "\n",
    "LOAD CSV WITH HEADERS FROM \"file:///nodes.csv\" AS row\n",
    "WITH row\n",
    "WHERE row.type = \"Chemical\"\n",
    "CREATE (n:`Chemical` {name: row.name, label: row.label, description: row.`description/definition`, synonym: row.synonym});\n",
    "\n",
    "LOAD CSV WITH HEADERS FROM \"file:///nodes.csv\" AS row\n",
    "WITH row\n",
    "WHERE row.type = \"GO\"\n",
    "CREATE (n:`GO` {name: row.name, label: row.label, description: row.`description/definition`, synonym: row.synonym});\n",
    "\n",
    "LOAD CSV WITH HEADERS FROM \"file:///nodes.csv\" AS row\n",
    "WITH row\n",
    "WHERE row.type = \"Environment\"\n",
    "CREATE (n:`Environment` {name: row.name, label: row.label, description: row.`description/definition`, synonym: row.synonym});\n",
    "\n",
    "LOAD CSV WITH HEADERS FROM \"file:///nodes.csv\" AS row\n",
    "WITH row\n",
    "WHERE row.type = \"Phenotype\"\n",
    "CREATE (n:`Phenotype` {name: row.name, label: row.label, description: row.`description/definition`, synonym: row.synonym});\n",
    "\n",
    "LOAD CSV WITH HEADERS FROM \"file:///nodes.csv\" AS row\n",
    "WITH row\n",
    "WHERE row.type = \"Food\"\n",
    "CREATE (n:`Food` {name: row.name, label: row.label, description: row.`description/definition`, synonym: row.synonym});\n",
    "\n",
    "LOAD CSV WITH HEADERS FROM \"file:///nodes.csv\" AS row\n",
    "WITH row\n",
    "WHERE row.type = \"Human developmental stage\"\n",
    "CREATE (n:`Human developmental stage` {name: row.name, label: row.label, description: row.`description/definition`, synonym: row.synonym});\n",
    "\n",
    "LOAD CSV WITH HEADERS FROM \"file:///nodes.csv\" AS row\n",
    "WITH row\n",
    "WHERE row.type = \"Environmental exposure\"\n",
    "CREATE (n:`Environmental exposure` {name: row.name, label: row.label, description: row.`description/definition`, synonym: row.synonym});\n",
    "\n",
    "LOAD CSV WITH HEADERS FROM \"file:///nodes.csv\" AS row\n",
    "WITH row\n",
    "WHERE row.type = \"miRNA\"\n",
    "CREATE (n:`miRNA` {name: row.name, label: row.label, description: row.`description/definition`, synonym: row.synonym});\n",
    "\n",
    "LOAD CSV WITH HEADERS FROM \"file:///nodes.csv\" AS row\n",
    "WITH row\n",
    "WHERE row.type = \"Medical action\"\n",
    "CREATE (n:`Medical action` {name: row.name, label: row.label, description: row.`description/definition`, synonym: row.synonym});\n",
    "\n",
    "LOAD CSV WITH HEADERS FROM \"file:///nodes.csv\" AS row\n",
    "WITH row\n",
    "WHERE row.type = \"Chromosome\"\n",
    "CREATE (n:`Chromosome` {name: row.name, label: row.label, description: row.`description/definition`, synonym: row.synonym});\n",
    "\n",
    "LOAD CSV WITH HEADERS FROM \"file:///nodes.csv\" AS row\n",
    "WITH row\n",
    "WHERE row.type = \"Neuro behaviour\"\n",
    "CREATE (n:`Neuro behaviour` {name: row.name, label: row.label, description: row.`description/definition`, synonym: row.synonym});\n",
    "\n",
    "LOAD CSV WITH HEADERS FROM \"file:///nodes.csv\" AS row\n",
    "WITH row\n",
    "WHERE row.type = \"NCI thesaurus\"\n",
    "CREATE (n:`NCI thesaurus` {name: row.name, label: row.label, description: row.`description/definition`, synonym: row.synonym});\n",
    "\n",
    "LOAD CSV WITH HEADERS FROM \"file:///nodes.csv\" AS row\n",
    "WITH row\n",
    "WHERE row.type = \"Mental functioning\"\n",
    "CREATE (n:`Mental functioning` {name: row.name, label: row.label, description: row.`description/definition`, synonym: row.synonym});\n",
    "\n",
    "LOAD CSV WITH HEADERS FROM \"file:///nodes.csv\" AS row\n",
    "WITH row\n",
    "WHERE row.type = \"Basic formal\"\n",
    "CREATE (n:`Basic formal` {name: row.name, label: row.label, description: row.`description/definition`, synonym: row.synonym});\n",
    "\n",
    "LOAD CSV WITH HEADERS FROM \"file:///nodes.csv\" AS row\n",
    "WITH row\n",
    "WHERE row.type = \"Mental disease\"\n",
    "CREATE (n:`Mental disease` {name: row.name, label: row.label, description: row.`description/definition`, synonym: row.synonym});\n",
    "\n",
    "LOAD CSV WITH HEADERS FROM \"file:///nodes.csv\" AS row\n",
    "WITH row\n",
    "WHERE row.type = \"General medical science\"\n",
    "CREATE (n:`General medical science` {name: row.name, label: row.label, description: row.`description/definition`, synonym: row.synonym});\n",
    "\n",
    "LOAD CSV WITH HEADERS FROM \"file:///nodes.csv\" AS row\n",
    "WITH row\n",
    "WHERE row.type = \"Vaccine\"\n",
    "CREATE (n:`Vaccine` {name: row.name, label: row.label, description: row.`description/definition`, synonym: row.synonym});\n",
    "\n",
    "LOAD CSV WITH HEADERS FROM \"file:///nodes.csv\" AS row\n",
    "WITH row\n",
    "WHERE row.type = \"Protein\"\n",
    "CREATE (n:`Protein` {name: row.name, label: row.label, description: row.`description/definition`, synonym: row.synonym});\n",
    "\n",
    "LOAD CSV WITH HEADERS FROM \"file:///nodes.csv\" AS row\n",
    "WITH row\n",
    "WHERE row.type = \"Gene\"\n",
    "CREATE (n:`Gene` {name: row.name, label: row.label, description: row.`description/definition`, synonym: row.synonym});"
   ]
  },
  {
   "cell_type": "raw",
   "metadata": {},
   "source": [
    "// Create an index\n",
    "CREATE INDEX FOR (n:Label) ON (n.name);"
   ]
  },
  {
   "cell_type": "raw",
   "metadata": {},
   "source": [
    "//Import edges with properties\n",
    "LOAD CSV WITH HEADERS FROM \"file:///relationships.csv\" AS row\n",
    "MATCH (start {name: row.subject})\n",
    "MATCH (end {name: row.object})\n",
    "CALL apoc.create.relationship(start, apoc.text.urldecode(row.predicate), {label: row.label, description: row.`description/definition`, synonym: row.synonym}, end) YIELD rel\n",
    "RETURN rel;"
   ]
  },
  {
   "cell_type": "raw",
   "metadata": {},
   "source": [
    "//Add gene-disease single edges' properties\n",
    "LOAD CSV WITH HEADERS FROM \"file:///gene_disease.csv\" AS row\n",
    "MATCH (start {name: row.subject})\n",
    "MATCH (end {name: row.object})\n",
    "// add DSI,DPI,YearInitial,YearFinal,NofPmids,NofSnps,score,EI,Source(s) columns\n",
    "MATCH (start)-[rel:`<http://purl.obolibrary.org/obo/RO_0003302>`]->(end)\n",
    "SET rel.DSI = row.DSI,\n",
    "    rel.DPI = row.DPI,\n",
    "    rel.YearInitial = row.YearInitial,\n",
    "    rel.YearFinal = row.YearFinal,\n",
    "    rel.NofPmids = row.NofPmids,\n",
    "    rel.NofSnps = row.NofSnps,\n",
    "    rel.score = row.score,\n",
    "    rel.EI = row.EI,\n",
    "    rel.`Source(s)` = row.`Source(s)`\n",
    "RETURN rel;"
   ]
  },
  {
   "cell_type": "raw",
   "metadata": {},
   "source": [
    "//Add miRNA-disease single edges' properties\n",
    "LOAD CSV WITH HEADERS FROM \"file:///miRNA_disease.csv\" AS row\n",
    "MATCH (start {name: row.subject})\n",
    "MATCH (end {name: row.object})\n",
    "// add Condition,Experiment,Year,Description,Source(s) columns\n",
    "MATCH (start)-[rel:`<http://purl.obolibrary.org/obo/RO_0003302>`]->(end)\n",
    "SET rel.Condition = row.Condition,\n",
    "    rel.Experiment = row.Experiment,\n",
    "    rel.Year = row.Year,\n",
    "    rel.Description = row.Description,\n",
    "    rel.`Source(s)` = row.`Source(s)`\n",
    "RETURN rel;"
   ]
  },
  {
   "cell_type": "raw",
   "metadata": {},
   "source": [
    "// Add gene-miRNA and miRNA-gene single edges' properties\n",
    "LOAD CSV WITH HEADERS FROM \"file:///gene_miRNA.csv\" AS row\n",
    "WITH row\n",
    "MATCH (start {name: row.subject})\n",
    "MATCH (end {name: row.object})\n",
    "// add cell_line, tissue, category, method, positive_negative, direct_indirect, up_down, condition, transcript(3p/5p), Source(s) columns\n",
    "MATCH (start)-[rel:`<http://purl.obolibrary.org/obo/RO_0002434>`]->(end)\n",
    "SET rel.cell_line = row.cell_line,\n",
    "    rel.tissue = row.tissue,\n",
    "    rel.category = row.category,\n",
    "    rel.method = row.method,\n",
    "    rel.positive_negative = row.positive_negative,\n",
    "    rel.direct_indirect = row.direct_indirect,\n",
    "    rel.up_down = row.up_down,\n",
    "    rel.condition = row.condition,\n",
    "    rel.`transcript(3p/5p)` = row.`transcript(3p/5p)`,\n",
    "    rel.`Source(s)` = row.`Source(s)`\n",
    "RETURN rel;\n",
    "\n",
    "LOAD CSV WITH HEADERS FROM \"file:///gene_miRNA.csv\" AS row\n",
    "WITH row\n",
    "MATCH (start {name: row.object})\n",
    "MATCH (end {name: row.subject})\n",
    "// add cell_line, tissue, category, method, positive_negative, direct_indirect, up_down, condition, transcript(3p/5p), Source(s) columns\n",
    "MATCH (start)-[rel:`<http://purl.obolibrary.org/obo/RO_0002434>`]->(end)\n",
    "SET rel.cell_line = row.cell_line,\n",
    "    rel.tissue = row.tissue,\n",
    "    rel.category = row.category,\n",
    "    rel.method = row.method,\n",
    "    rel.positive_negative = row.positive_negative,\n",
    "    rel.direct_indirect = row.direct_indirect,\n",
    "    rel.up_down = row.up_down,\n",
    "    rel.condition = row.condition,\n",
    "    rel.`transcript(3p/5p)` = row.`transcript(3p/5p)`,\n",
    "    rel.`Source(s)` = row.`Source(s)`\n",
    "RETURN rel;"
   ]
  },
  {
   "cell_type": "markdown",
   "metadata": {},
   "source": [
    "If something goes wrong..."
   ]
  },
  {
   "cell_type": "raw",
   "metadata": {},
   "source": [
    "// Delete all\n",
    "match (a) -[r] -> () delete a, r;\n",
    "match (a) delete a"
   ]
  },
  {
   "cell_type": "markdown",
   "metadata": {},
   "source": [
    "![Neo4j meta-graph](https://github.com/emanuelecavalleri/testRNA-KG/assets/33032169/8aa80e9c-4371-4705-bea2-3546f3234fab \"Neo4j meta-graph\")"
   ]
  },
  {
   "cell_type": "markdown",
   "metadata": {},
   "source": [
    "We can retrieve \"autosomal dominant nonsyndromic hearing loss 15\" (MONDO:0011226) disease or miRNA attributes with ease.\n",
    "\n"
   ]
  },
  {
   "cell_type": "raw",
   "metadata": {},
   "source": [
    "MATCH (d:Disease)\n",
    "WHERE d.name = '<http://purl.obolibrary.org/obo/MONDO_0011226>'\n",
    "RETURN d;\n",
    "\n",
    "MATCH (m:miRNA)\n",
    "WHERE m.name = '<https://www.mirbase.org/hairpin/MI0000063>'\n",
    "RETURN m;\n",
    "\n",
    "// Bonus: we can also use Neo4j to retrieve id from properties (e.g., label)\n",
    "MATCH (m:miRNA)\n",
    "WHERE toLower(m.label) CONTAINS 'hsa-let-7b'\n",
    "RETURN m;"
   ]
  },
  {
   "cell_type": "raw",
   "metadata": {},
   "source": [
    "{\n",
    "  \"identity\": 8889,\n",
    "  \"labels\": [\n",
    "    \"Disease\"\n",
    "  ],\n",
    "  \"properties\": {\n",
    "    \"name\": \"<http://purl.obolibrary.org/obo/MONDO_0011226>\",\n",
    "    \"description\": \"Any autosomal dominant nonsyndromic deafness in which the cause of the disease is a mutation in the POU4F3 gene.\",\n",
    "    \"synonym\": \"DFNA15|POU4F3 autosomal dominant nonsyndromic deafness|autosomal dominant deafness 15|autosomal dominant nonsyndromic deafness 15|autosomal dominant nonsyndromic deafness caused by mutation in POU4F3|autosomal dominant nonsyndromic deafness type 15|deafness, autosomal dominant 15|deafness, autosomal dominant type 15\",\n",
    "    \"label\": \"autosomal dominant nonsyndromic hearing loss 15\"\n",
    "  },\n",
    "  \"elementId\": \"8889\"\n",
    "}\n",
    "\n",
    "{\n",
    "  \"identity\": 27157,\n",
    "  \"labels\": [\n",
    "    \"miRNA\"\n",
    "  ],\n",
    "  \"properties\": {\n",
    "    \"name\": \"<https://www.mirbase.org/hairpin/MI0000063>\",\n",
    "    \"description\": \"([1], '11679670'), ([2], '14573789'), ([3], '15325244'), ([4], '17604727'), ([5], '17616659'). Sequence: CGGGGUGAGGUAGUAGGUUGUGUGGUUUCAGGGCAGUGAUGUUGCCCCUCGGAAGAUAACUAUACAACCUACUGCCUUCCCUG\",\n",
    "    \"synonym\": \"Homo sapiens let-7b stem-loop\",\n",
    "    \"label\": \"hsa-let-7b\"\n",
    "  },\n",
    "  \"elementId\": \"27157\"\n",
    "}"
   ]
  },
  {
   "cell_type": "markdown",
   "metadata": {},
   "source": [
    "We can retrieve useful statistics by sampling some nodes and reporting on property and relationship counts per node."
   ]
  },
  {
   "cell_type": "raw",
   "metadata": {},
   "source": [
    "╒═════════════════════════════╤══════════╤═════════════════════╕\n",
    "│Type                         │SampleSize│Avg_RelationshipCount│\n",
    "╞═════════════════════════════╪══════════╪═════════════════════╡\n",
    "│[\"Disease\"]                  │2380      │4.182352941176471    │\n",
    "├─────────────────────────────┼──────────┼─────────────────────┤\n",
    "│[\"miRNA\"]                    │51        │16.294117647058822   │\n",
    "├─────────────────────────────┼──────────┼─────────────────────┤\n",
    "│[\"Gene\"]                     │660       │3.2348484848484853   │\n",
    "└─────────────────────────────┴──────────┴─────────────────────┘"
   ]
  },
  {
   "cell_type": "markdown",
   "metadata": {},
   "source": [
    "We can show a meta-graph containing gene-miRNA interactions that occur only in HeLa cell lines (http://purl.obolibrary.org/obo/CLO_0003684). We can notice a small central well-connected core, typical of (scale-free) biological networks. We can also analyse one of the central nodes, which is https://www.mirbase.org/hairpin/MI0000063 (stem-loop hsa-let-7b). For instance, it interacts with BAX (a human apoptosis regulator gene, Gene ID: 581). We can explore this relationship more in depth.\n",
    "\n",
    "![hela subnetwork](https://github.com/emanuelecavalleri/testRNA-KG/assets/33032169/7be56b86-abe0-40be-a1ec-5e79e0788246 \"hela subnetwork\")\n",
    "\n",
    "![hsa-let-7b subsubnetwork](https://github.com/emanuelecavalleri/testRNA-KG/assets/33032169/9f802d8d-7567-4edb-857d-1c84e28898b4 \"hsa-let-7b subsubnetwork\")"
   ]
  },
  {
   "cell_type": "raw",
   "metadata": {},
   "source": [
    "// Gene-miRNA HeLa subnetwork\n",
    "MATCH (gene)-[interaction:`<http://purl.obolibrary.org/obo/RO_0002434>`]->(miRNA)\n",
    "WHERE toLower(interaction.cell_line) CONTAINS 'hela'\n",
    "RETURN gene, miRNA;\n",
    "\n",
    "// hsa-let-7b subsubnetwork\n",
    "MATCH (gene)-[interaction:`<http://purl.obolibrary.org/obo/RO_0002434>`]->(miRNA)\n",
    "WHERE miRNA.name = '<https://www.mirbase.org/hairpin/MI0000063>' AND toLower(interaction.cell_line) CONTAINS 'hela'\n",
    "RETURN gene, miRNA;\n",
    "\n",
    "// hsa-let-7b -- BAX subsubsubnetwork\n",
    "MATCH (gene)-[interaction:`<http://purl.obolibrary.org/obo/RO_0002434>`]->(miRNA)\n",
    "WHERE miRNA.name = '<https://www.mirbase.org/hairpin/MI0000063>' AND toLower(interaction.cell_line) CONTAINS 'hela' AND gene.name = '<http://www.ncbi.nlm.nih.gov/gene/581>'\n",
    "RETURN gene, miRNA;\n",
    "\n",
    "// Bonus: minimal network/graph that contains both hsa-let-7b -- BAX\n",
    "MATCH p = (m:miRNA {name: '<https://www.mirbase.org/hairpin/MI0000063>'})-[*]-(g:Gene {name: '<http://www.ncbi.nlm.nih.gov/gene/581>'})\n",
    "RETURN p;"
   ]
  },
  {
   "cell_type": "raw",
   "metadata": {},
   "source": [
    "{\n",
    "  \"identity\": 183704,\n",
    "  \"start\": 30751,\n",
    "  \"end\": 27157,\n",
    "  \"type\": \"<http://purl.obolibrary.org/obo/RO_0002434>\",\n",
    "  \"properties\": {\n",
    "    \"direct_indirect\": \"INDIRECT\",\n",
    "    \"method\": \"http://purl.obolibrary.org/obo/NCIT_C18477 (microarray)\",\n",
    "    \"description\": \"A relationship that holds between two entities in which the processes executed by the two entities are causally connected.\",\n",
    "    \"tissue\": \"http://purl.obolibrary.org/obo/UBERON_0000002 (cervix)\",\n",
    "    \"label\": \"Interacts with\",\n",
    "    \"condition\": \"8hrs post-transfection, Overexpression\",\n",
    "    \"transcript(3p/5p)\": \"5p\",\n",
    "    \"synonym\": \"in pairwise interaction with\",\n",
    "    \"Source(s)\": \"TarBase\",\n",
    "    \"cell_line\": \"http://purl.obolibrary.org/obo/CLO_0003684 (hela)\",\n",
    "    \"category\": \"http://purl.obolibrary.org/obo/MONDO_0004992 (cancer)\",\n",
    "    \"positive_negative\": \"NEGATIVE\"\n",
    "  },\n",
    "  \"elementId\": \"183704\",\n",
    "  \"startNodeElementId\": \"30751\",\n",
    "  \"endNodeElementId\": \"27157\"\n",
    "}"
   ]
  },
  {
   "cell_type": "markdown",
   "metadata": {},
   "source": [
    "***\n",
    "# GRAPE  <a class=\"anchor\" id=\"grape\"></a>"
   ]
  },
  {
   "cell_type": "code",
   "execution_count": null,
   "metadata": {},
   "outputs": [],
   "source": [
    "# set the names for persistence files\n",
    "pik_nodes = \"../../nodes.pkl\"\n",
    "pik_edges = \"../../edges.pkl\""
   ]
  },
  {
   "cell_type": "code",
   "execution_count": null,
   "metadata": {},
   "outputs": [],
   "source": [
    "# save the nodes and edges dataframe to pickle files for persistence\n",
    "nodes_df.to_pickle(pik_nodes)\n",
    "edges_df.to_pickle(pik_edges)"
   ]
  },
  {
   "cell_type": "code",
   "execution_count": null,
   "metadata": {},
   "outputs": [],
   "source": [
    "# load the nodes and edges dataframe from pickle files\n",
    "nodes_df = pd.read_pickle(pik_nodes)\n",
    "edges_df = pd.read_pickle(pik_edges)"
   ]
  },
  {
   "cell_type": "code",
   "execution_count": null,
   "metadata": {},
   "outputs": [],
   "source": [
    "%%time\n",
    "# load it into a graph\n",
    "graph = Graph.from_pd(\n",
    "    edges_df=edges_df,\n",
    "    nodes_df=nodes_df,\n",
    "    node_name_column=\"name\",\n",
    "    node_type_column=\"type\",\n",
    "    edge_src_column=\"subject\",\n",
    "    edge_dst_column=\"object\",\n",
    "    #edge_weight_column=\"weight\",\n",
    "    edge_type_column=\"type\",\n",
    "    node_types_separator=\"|\",\n",
    "    directed=True,\n",
    "    name=\"graph\",\n",
    ")\n",
    "\n",
    "graph"
   ]
  },
  {
   "cell_type": "code",
   "execution_count": null,
   "metadata": {},
   "outputs": [],
   "source": [
    "htmlrep = fpath+\"RNAgraphReport.html\"\n",
    "\n",
    "ff = open(htmlrep,\"w\")\n",
    "ff.write(str(graph))\n",
    "ff.close()"
   ]
  },
  {
   "cell_type": "code",
   "execution_count": null,
   "metadata": {},
   "outputs": [],
   "source": [
    "graph.get_diameter()"
   ]
  },
  {
   "cell_type": "code",
   "execution_count": null,
   "metadata": {},
   "outputs": [],
   "source": [
    "graph = Graph.from_pd(\n",
    "    edges_df=edges_df,\n",
    "    nodes_df=nodes_df,\n",
    "    node_name_column=\"name\",\n",
    "    node_type_column=\"type\",\n",
    "    edge_src_column=\"subject\",\n",
    "    edge_dst_column=\"object\",\n",
    "    #edge_weight_column=\"weight\",\n",
    "    edge_type_column=\"type\",\n",
    "    node_types_separator=\"|\",\n",
    "    directed=False,\n",
    "    name=\"graph\",\n",
    ")\n",
    "\n",
    "engine = Node2VecCBOWEnsmallen(walk_length=5)\n",
    "embedding = engine.fit_transform(graph)\n",
    "vis = GraphVisualizer(graph)\n",
    "\n",
    "vis.fit_edges(embedding)\n",
    "vis.plot_edge_types(k=9)"
   ]
  },
  {
   "cell_type": "code",
   "execution_count": null,
   "metadata": {},
   "outputs": [],
   "source": [
    "vis.fit_nodes(embedding)\n",
    "vis.plot_node_types(k=9)"
   ]
  },
  {
   "cell_type": "markdown",
   "metadata": {},
   "source": [
    "### Predictions using Node2Vec"
   ]
  },
  {
   "cell_type": "code",
   "execution_count": null,
   "metadata": {},
   "outputs": [],
   "source": [
    "train, test = graph.connected_holdout(train_size=0.7)\n",
    "train.enable()\n",
    "\n",
    "vis = GraphVisualizer(\n",
    "    graph=test,\n",
    "    support=graph\n",
    ")\n",
    "\n",
    "vis.fit_negative_and_positive_edges(embedding)\n",
    "vis.plot_positive_and_negative_edges()"
   ]
  },
  {
   "cell_type": "markdown",
   "metadata": {},
   "source": [
    "***\n",
    "# ASSIGNMENTS\n",
    "\n",
    "- Let us go back to the `miRNA_gene` dataframe. It has 'positive_negative', 'direct_indirect', and 'up_down' columns a.k.a. single edges' metadata. A refinment process for this kg would be promote these three properties to specific edge types. Check [RO](https://www.ebi.ac.uk/ols4/ontologies/ro) to retrieve relations more accurate than the generic \"interacts with\", split the dataframe according to these new three relations, and generate the refined KG using PheKnowLator. This analysis increases the semantic (and biological) information stored within your KG.\n",
    "\n",
    "- Moreover, the `miRNA_gene` dataframe has a \"transcript(3p/5p)\" column. We can improve the KG by splitting stem-loop hairpin miRNA and mature sequences. The look-up table for mapping mature miRNA sequences to miRBase identifiers is already provided. Remember to store the -5p/-3p information about mature miRNA molecules as a node property. What should I do if I find a \"5p|3p\" cell?\n",
    "    - hsa-mir-15a --> https://www.mirbase.org/hairpin/MI0000069 (we already know it...)\n",
    "    - hsa-miR-15a-5p --> https://www.mirbase.org/mature/MIMAT0000068\n",
    "    - hsa-miR-15a-3p--> https://www.mirbase.org/mature/MIMAT0004488\n",
    "\n",
    "- The previous improvement distinguishes mature and stem-loop sequence, but mature sequence are derived from stem-loops! We can store this information within the KG as a new bidirectional edge (look for \"develops\"-like relationships stored in RO on [OLS4](https://www.ebi.ac.uk/ols4/)). This is a good example of how we can infer biological information just by studying the semantics of the KG domain, without considering any new dataset.  \n",
    "    - hsa-mir-15a --> develops --> hsa-miR-15a-5p (hint: employ an RO property with an appropriate inverse)\n",
    "    - hsa-mir-15a --> develops --> hsa-miR-15a-3p\n",
    "\n",
    "- To improve look-up tables, you can move from a 1-to-1 mapping to an adaptive threshold mapping, e.g., map both Parkinson disease and Parkinsons disease to MONDO:0005180 (a proper threshold could be could be 95%). Thresholds have be empirically validated, meaning a CLO mapping requires a lower threshold than a Mondo one. These assignments show KG construction and maintenance as a circular process that constantly improves the final KG to identify edge and node-subtypes and enhance grounding/mapping. \n",
    "\n",
    "- Analyze you newly generated KG(s) with GRAPE."
   ]
  },
  {
   "cell_type": "code",
   "execution_count": null,
   "metadata": {},
   "outputs": [],
   "source": [
    "gene_miRNA[['subject','object','positive_negative','direct_indirect','up_down','transcript(3p/5p)']].head()"
   ]
  },
  {
   "cell_type": "code",
   "execution_count": null,
   "metadata": {},
   "outputs": [],
   "source": [
    "from difflib import SequenceMatcher\n",
    "\n",
    "def similar(a, b):\n",
    "    return SequenceMatcher(None, a, b).ratio()\n",
    "\n",
    "print(similar(\"Parkinson disease\", \"Parkinson disease\"))\n",
    "print(similar(\"Parkinson disease\", \"Parkinsons disease\"))\n",
    "print(similar(\"Parkinson disease\", \"Parkinsonss disease\"))"
   ]
  }
 ],
 "metadata": {
  "colab": {
   "authorship_tag": "ABX9TyO6tVy5b4NGs/oOGRYG4jak",
   "collapsed_sections": [],
   "include_colab_link": true,
   "name": "Graph generation.ipynb",
   "provenance": []
  },
  "kernelspec": {
   "display_name": "Python 3 (ipykernel)",
   "language": "python",
   "name": "python3"
  },
  "language_info": {
   "codemirror_mode": {
    "name": "ipython",
    "version": 3
   },
   "file_extension": ".py",
   "mimetype": "text/x-python",
   "name": "python",
   "nbconvert_exporter": "python",
   "pygments_lexer": "ipython3",
   "version": "3.10.12"
  }
 },
 "nbformat": 4,
 "nbformat_minor": 4
}
